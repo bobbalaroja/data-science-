{
  "cells": [
    {
      "cell_type": "markdown",
      "id": "a48b00fe",
      "metadata": {
        "id": "a48b00fe"
      },
      "source": [
        "## INSTRUCTIONS\n",
        "\n",
        "Every learner should submit his/her own homework solutions. However, you are allowed to discuss the homework with each other– but everyone must submit his/her own solution; you may not copy someone else’s solution.\n",
        "\n",
        "The homework consists of two parts:\n",
        "1.\tData from our life\n",
        "2.\tClassification\n",
        "\n",
        "Follow the prompts in the attached jupyter notebook. We are using the same data as for the previous homeworks. Use the version you created called df2 where you already cleaned, dropped some of the variables but did not create dummy variables. Instead of creating dummy variables, you have to recode this column as suggested bellow.\n",
        "Add markdown cells to your analysis to include your solutions, comments, answers. Add as many cells as you need, for easy readability comment when possible.\n",
        "\n",
        "**Note:** This homework has a bonus question, so the highest mark that can be earned is a 105.\n",
        "Submission: Send in both a ipynb and a pdf file of your work.\n",
        "Good luck!\n",
        "\n"
      ]
    },
    {
      "cell_type": "markdown",
      "id": "51fb31fa",
      "metadata": {
        "id": "51fb31fa"
      },
      "source": [
        "# 1. Data from our lives:"
      ]
    },
    {
      "cell_type": "markdown",
      "id": "4bcc0963",
      "metadata": {
        "id": "4bcc0963"
      },
      "source": [
        "### Describe a situation or problem from your job, everyday life, current events, etc., for which a classification would be appropriate."
      ]
    },
    {
      "cell_type": "markdown",
      "source": [
        "India win or loss from 1977 to 2023\n",
        "**Independent Varibles**:\n",
        "\n",
        "1) **Match Format**:Categorizing matches into formats like One Day Internationals (ODIs), Test matches, and Twenty20 (T20) games. Each format has its own set of rules and dynamics.\n",
        "\n",
        "2) **Opposite Team**:The team that a particular cricket team is playing against. The strength, form, and strategies of the opposing team can impact the match outcome.\n",
        "\n",
        "3)** Toss Decision**:Whether a team chooses to bat or bowl first after winning the coin toss. This decision can be influenced by factors like pitch conditions, weather, and team strategy.\n",
        "\n",
        "4) **Venue**:The location where the match is being played. Different venues have different pitch conditions, dimensions, and atmospheres, which can affect team performance.\n",
        "\n",
        "5) **Whether Conditions**:Factors like temperature, humidity, and precipitation. Weather can influence the condition of the pitch, swing and seam movement for bowlers, and overall playing conditions.\n",
        "\n",
        "6) **Pitch Reports**:Information about the state and characteristics of the cricket pitch. This includes factors like pitch type (e.g., flat, bouncy, turning), which can impact the strategy and performance of both batting and bowling teams.\n",
        "\n",
        "7) Last matched report:The outcome and performance of the team in their previous match. Team form, player form, and any specific trends can be derived from analyzing recent matches.\n",
        "\n",
        "**Dependent Variable:**\n",
        "Match Outcome(win or loss)"
      ],
      "metadata": {
        "id": "GthlkEgPvc4a"
      },
      "id": "GthlkEgPvc4a"
    },
    {
      "cell_type": "code",
      "execution_count": 86,
      "id": "6b00ee4b",
      "metadata": {
        "id": "6b00ee4b"
      },
      "outputs": [],
      "source": [
        "\n"
      ]
    },
    {
      "cell_type": "markdown",
      "id": "b5a7df56",
      "metadata": {
        "id": "b5a7df56"
      },
      "source": [
        "# 2. Preprocessing"
      ]
    },
    {
      "cell_type": "code",
      "source": [
        "from scipy import stats\n",
        "from sklearn.linear_model import *\n",
        "from sklearn.ensemble import *\n",
        "from sklearn.feature_selection import *\n",
        "from sklearn.model_selection import *\n",
        "from sklearn.preprocessing import *\n",
        "from sklearn.decomposition import *\n",
        "from sklearn.metrics import *\n",
        "import numpy as np\n",
        "from sklearn.naive_bayes import GaussianNB\n",
        "from sklearn.neighbors import KNeighborsClassifier\n",
        "from sklearn.svm import SVC\n",
        "import statsmodels.api as sm\n",
        "import pandas as pd\n",
        "import warnings\n",
        "warnings.filterwarnings(\"ignore\")\n"
      ],
      "metadata": {
        "id": "nM0uYKRdSO1s"
      },
      "id": "nM0uYKRdSO1s",
      "execution_count": 118,
      "outputs": []
    },
    {
      "cell_type": "code",
      "source": [
        "df =pd.read_csv('auto_imports1.csv')\n",
        "df.head()"
      ],
      "metadata": {
        "colab": {
          "base_uri": "https://localhost:8080/",
          "height": 222
        },
        "id": "sDbMmYolkLPL",
        "outputId": "6fae3171-3223-4648-83a8-10338e761a67"
      },
      "id": "sDbMmYolkLPL",
      "execution_count": 88,
      "outputs": [
        {
          "output_type": "execute_result",
          "data": {
            "text/plain": [
              "  fuel_type         body  wheel_base  length  width  heights  curb_weight  \\\n",
              "0       gas  convertible        88.6   168.8   64.1     48.8         2548   \n",
              "1       gas  convertible        88.6   168.8   64.1     48.8         2548   \n",
              "2       gas    hatchback        94.5   171.2   65.5     52.4         2823   \n",
              "3       gas        sedan        99.8   176.6   66.2     54.3         2337   \n",
              "4       gas        sedan        99.4   176.6   66.4     54.3         2824   \n",
              "\n",
              "  engine_type cylinders  engine_size  bore stroke  comprassion horse_power  \\\n",
              "0        dohc      four          130  3.47   2.68          9.0         111   \n",
              "1        dohc      four          130  3.47   2.68          9.0         111   \n",
              "2        ohcv       six          152  2.68   3.47          9.0         154   \n",
              "3         ohc      four          109  3.19    3.4         10.0         102   \n",
              "4         ohc      five          136  3.19    3.4          8.0         115   \n",
              "\n",
              "  peak_rpm  city_mpg  highway_mpg  price  \n",
              "0     5000        21           27  13495  \n",
              "1     5000        21           27  16500  \n",
              "2     5000        19           26  16500  \n",
              "3     5500        24           30  13950  \n",
              "4     5500        18           22  17450  "
            ],
            "text/html": [
              "\n",
              "  <div id=\"df-6bcb49b3-9d3d-4846-a56c-4758a7dc1c58\" class=\"colab-df-container\">\n",
              "    <div>\n",
              "<style scoped>\n",
              "    .dataframe tbody tr th:only-of-type {\n",
              "        vertical-align: middle;\n",
              "    }\n",
              "\n",
              "    .dataframe tbody tr th {\n",
              "        vertical-align: top;\n",
              "    }\n",
              "\n",
              "    .dataframe thead th {\n",
              "        text-align: right;\n",
              "    }\n",
              "</style>\n",
              "<table border=\"1\" class=\"dataframe\">\n",
              "  <thead>\n",
              "    <tr style=\"text-align: right;\">\n",
              "      <th></th>\n",
              "      <th>fuel_type</th>\n",
              "      <th>body</th>\n",
              "      <th>wheel_base</th>\n",
              "      <th>length</th>\n",
              "      <th>width</th>\n",
              "      <th>heights</th>\n",
              "      <th>curb_weight</th>\n",
              "      <th>engine_type</th>\n",
              "      <th>cylinders</th>\n",
              "      <th>engine_size</th>\n",
              "      <th>bore</th>\n",
              "      <th>stroke</th>\n",
              "      <th>comprassion</th>\n",
              "      <th>horse_power</th>\n",
              "      <th>peak_rpm</th>\n",
              "      <th>city_mpg</th>\n",
              "      <th>highway_mpg</th>\n",
              "      <th>price</th>\n",
              "    </tr>\n",
              "  </thead>\n",
              "  <tbody>\n",
              "    <tr>\n",
              "      <th>0</th>\n",
              "      <td>gas</td>\n",
              "      <td>convertible</td>\n",
              "      <td>88.6</td>\n",
              "      <td>168.8</td>\n",
              "      <td>64.1</td>\n",
              "      <td>48.8</td>\n",
              "      <td>2548</td>\n",
              "      <td>dohc</td>\n",
              "      <td>four</td>\n",
              "      <td>130</td>\n",
              "      <td>3.47</td>\n",
              "      <td>2.68</td>\n",
              "      <td>9.0</td>\n",
              "      <td>111</td>\n",
              "      <td>5000</td>\n",
              "      <td>21</td>\n",
              "      <td>27</td>\n",
              "      <td>13495</td>\n",
              "    </tr>\n",
              "    <tr>\n",
              "      <th>1</th>\n",
              "      <td>gas</td>\n",
              "      <td>convertible</td>\n",
              "      <td>88.6</td>\n",
              "      <td>168.8</td>\n",
              "      <td>64.1</td>\n",
              "      <td>48.8</td>\n",
              "      <td>2548</td>\n",
              "      <td>dohc</td>\n",
              "      <td>four</td>\n",
              "      <td>130</td>\n",
              "      <td>3.47</td>\n",
              "      <td>2.68</td>\n",
              "      <td>9.0</td>\n",
              "      <td>111</td>\n",
              "      <td>5000</td>\n",
              "      <td>21</td>\n",
              "      <td>27</td>\n",
              "      <td>16500</td>\n",
              "    </tr>\n",
              "    <tr>\n",
              "      <th>2</th>\n",
              "      <td>gas</td>\n",
              "      <td>hatchback</td>\n",
              "      <td>94.5</td>\n",
              "      <td>171.2</td>\n",
              "      <td>65.5</td>\n",
              "      <td>52.4</td>\n",
              "      <td>2823</td>\n",
              "      <td>ohcv</td>\n",
              "      <td>six</td>\n",
              "      <td>152</td>\n",
              "      <td>2.68</td>\n",
              "      <td>3.47</td>\n",
              "      <td>9.0</td>\n",
              "      <td>154</td>\n",
              "      <td>5000</td>\n",
              "      <td>19</td>\n",
              "      <td>26</td>\n",
              "      <td>16500</td>\n",
              "    </tr>\n",
              "    <tr>\n",
              "      <th>3</th>\n",
              "      <td>gas</td>\n",
              "      <td>sedan</td>\n",
              "      <td>99.8</td>\n",
              "      <td>176.6</td>\n",
              "      <td>66.2</td>\n",
              "      <td>54.3</td>\n",
              "      <td>2337</td>\n",
              "      <td>ohc</td>\n",
              "      <td>four</td>\n",
              "      <td>109</td>\n",
              "      <td>3.19</td>\n",
              "      <td>3.4</td>\n",
              "      <td>10.0</td>\n",
              "      <td>102</td>\n",
              "      <td>5500</td>\n",
              "      <td>24</td>\n",
              "      <td>30</td>\n",
              "      <td>13950</td>\n",
              "    </tr>\n",
              "    <tr>\n",
              "      <th>4</th>\n",
              "      <td>gas</td>\n",
              "      <td>sedan</td>\n",
              "      <td>99.4</td>\n",
              "      <td>176.6</td>\n",
              "      <td>66.4</td>\n",
              "      <td>54.3</td>\n",
              "      <td>2824</td>\n",
              "      <td>ohc</td>\n",
              "      <td>five</td>\n",
              "      <td>136</td>\n",
              "      <td>3.19</td>\n",
              "      <td>3.4</td>\n",
              "      <td>8.0</td>\n",
              "      <td>115</td>\n",
              "      <td>5500</td>\n",
              "      <td>18</td>\n",
              "      <td>22</td>\n",
              "      <td>17450</td>\n",
              "    </tr>\n",
              "  </tbody>\n",
              "</table>\n",
              "</div>\n",
              "    <div class=\"colab-df-buttons\">\n",
              "\n",
              "  <div class=\"colab-df-container\">\n",
              "    <button class=\"colab-df-convert\" onclick=\"convertToInteractive('df-6bcb49b3-9d3d-4846-a56c-4758a7dc1c58')\"\n",
              "            title=\"Convert this dataframe to an interactive table.\"\n",
              "            style=\"display:none;\">\n",
              "\n",
              "  <svg xmlns=\"http://www.w3.org/2000/svg\" height=\"24px\" viewBox=\"0 -960 960 960\">\n",
              "    <path d=\"M120-120v-720h720v720H120Zm60-500h600v-160H180v160Zm220 220h160v-160H400v160Zm0 220h160v-160H400v160ZM180-400h160v-160H180v160Zm440 0h160v-160H620v160ZM180-180h160v-160H180v160Zm440 0h160v-160H620v160Z\"/>\n",
              "  </svg>\n",
              "    </button>\n",
              "\n",
              "  <style>\n",
              "    .colab-df-container {\n",
              "      display:flex;\n",
              "      gap: 12px;\n",
              "    }\n",
              "\n",
              "    .colab-df-convert {\n",
              "      background-color: #E8F0FE;\n",
              "      border: none;\n",
              "      border-radius: 50%;\n",
              "      cursor: pointer;\n",
              "      display: none;\n",
              "      fill: #1967D2;\n",
              "      height: 32px;\n",
              "      padding: 0 0 0 0;\n",
              "      width: 32px;\n",
              "    }\n",
              "\n",
              "    .colab-df-convert:hover {\n",
              "      background-color: #E2EBFA;\n",
              "      box-shadow: 0px 1px 2px rgba(60, 64, 67, 0.3), 0px 1px 3px 1px rgba(60, 64, 67, 0.15);\n",
              "      fill: #174EA6;\n",
              "    }\n",
              "\n",
              "    .colab-df-buttons div {\n",
              "      margin-bottom: 4px;\n",
              "    }\n",
              "\n",
              "    [theme=dark] .colab-df-convert {\n",
              "      background-color: #3B4455;\n",
              "      fill: #D2E3FC;\n",
              "    }\n",
              "\n",
              "    [theme=dark] .colab-df-convert:hover {\n",
              "      background-color: #434B5C;\n",
              "      box-shadow: 0px 1px 3px 1px rgba(0, 0, 0, 0.15);\n",
              "      filter: drop-shadow(0px 1px 2px rgba(0, 0, 0, 0.3));\n",
              "      fill: #FFFFFF;\n",
              "    }\n",
              "  </style>\n",
              "\n",
              "    <script>\n",
              "      const buttonEl =\n",
              "        document.querySelector('#df-6bcb49b3-9d3d-4846-a56c-4758a7dc1c58 button.colab-df-convert');\n",
              "      buttonEl.style.display =\n",
              "        google.colab.kernel.accessAllowed ? 'block' : 'none';\n",
              "\n",
              "      async function convertToInteractive(key) {\n",
              "        const element = document.querySelector('#df-6bcb49b3-9d3d-4846-a56c-4758a7dc1c58');\n",
              "        const dataTable =\n",
              "          await google.colab.kernel.invokeFunction('convertToInteractive',\n",
              "                                                    [key], {});\n",
              "        if (!dataTable) return;\n",
              "\n",
              "        const docLinkHtml = 'Like what you see? Visit the ' +\n",
              "          '<a target=\"_blank\" href=https://colab.research.google.com/notebooks/data_table.ipynb>data table notebook</a>'\n",
              "          + ' to learn more about interactive tables.';\n",
              "        element.innerHTML = '';\n",
              "        dataTable['output_type'] = 'display_data';\n",
              "        await google.colab.output.renderOutput(dataTable, element);\n",
              "        const docLink = document.createElement('div');\n",
              "        docLink.innerHTML = docLinkHtml;\n",
              "        element.appendChild(docLink);\n",
              "      }\n",
              "    </script>\n",
              "  </div>\n",
              "\n",
              "\n",
              "<div id=\"df-6e5f3c2b-3023-4cae-97ef-c735ebeef32f\">\n",
              "  <button class=\"colab-df-quickchart\" onclick=\"quickchart('df-6e5f3c2b-3023-4cae-97ef-c735ebeef32f')\"\n",
              "            title=\"Suggest charts\"\n",
              "            style=\"display:none;\">\n",
              "\n",
              "<svg xmlns=\"http://www.w3.org/2000/svg\" height=\"24px\"viewBox=\"0 0 24 24\"\n",
              "     width=\"24px\">\n",
              "    <g>\n",
              "        <path d=\"M19 3H5c-1.1 0-2 .9-2 2v14c0 1.1.9 2 2 2h14c1.1 0 2-.9 2-2V5c0-1.1-.9-2-2-2zM9 17H7v-7h2v7zm4 0h-2V7h2v10zm4 0h-2v-4h2v4z\"/>\n",
              "    </g>\n",
              "</svg>\n",
              "  </button>\n",
              "\n",
              "<style>\n",
              "  .colab-df-quickchart {\n",
              "      --bg-color: #E8F0FE;\n",
              "      --fill-color: #1967D2;\n",
              "      --hover-bg-color: #E2EBFA;\n",
              "      --hover-fill-color: #174EA6;\n",
              "      --disabled-fill-color: #AAA;\n",
              "      --disabled-bg-color: #DDD;\n",
              "  }\n",
              "\n",
              "  [theme=dark] .colab-df-quickchart {\n",
              "      --bg-color: #3B4455;\n",
              "      --fill-color: #D2E3FC;\n",
              "      --hover-bg-color: #434B5C;\n",
              "      --hover-fill-color: #FFFFFF;\n",
              "      --disabled-bg-color: #3B4455;\n",
              "      --disabled-fill-color: #666;\n",
              "  }\n",
              "\n",
              "  .colab-df-quickchart {\n",
              "    background-color: var(--bg-color);\n",
              "    border: none;\n",
              "    border-radius: 50%;\n",
              "    cursor: pointer;\n",
              "    display: none;\n",
              "    fill: var(--fill-color);\n",
              "    height: 32px;\n",
              "    padding: 0;\n",
              "    width: 32px;\n",
              "  }\n",
              "\n",
              "  .colab-df-quickchart:hover {\n",
              "    background-color: var(--hover-bg-color);\n",
              "    box-shadow: 0 1px 2px rgba(60, 64, 67, 0.3), 0 1px 3px 1px rgba(60, 64, 67, 0.15);\n",
              "    fill: var(--button-hover-fill-color);\n",
              "  }\n",
              "\n",
              "  .colab-df-quickchart-complete:disabled,\n",
              "  .colab-df-quickchart-complete:disabled:hover {\n",
              "    background-color: var(--disabled-bg-color);\n",
              "    fill: var(--disabled-fill-color);\n",
              "    box-shadow: none;\n",
              "  }\n",
              "\n",
              "  .colab-df-spinner {\n",
              "    border: 2px solid var(--fill-color);\n",
              "    border-color: transparent;\n",
              "    border-bottom-color: var(--fill-color);\n",
              "    animation:\n",
              "      spin 1s steps(1) infinite;\n",
              "  }\n",
              "\n",
              "  @keyframes spin {\n",
              "    0% {\n",
              "      border-color: transparent;\n",
              "      border-bottom-color: var(--fill-color);\n",
              "      border-left-color: var(--fill-color);\n",
              "    }\n",
              "    20% {\n",
              "      border-color: transparent;\n",
              "      border-left-color: var(--fill-color);\n",
              "      border-top-color: var(--fill-color);\n",
              "    }\n",
              "    30% {\n",
              "      border-color: transparent;\n",
              "      border-left-color: var(--fill-color);\n",
              "      border-top-color: var(--fill-color);\n",
              "      border-right-color: var(--fill-color);\n",
              "    }\n",
              "    40% {\n",
              "      border-color: transparent;\n",
              "      border-right-color: var(--fill-color);\n",
              "      border-top-color: var(--fill-color);\n",
              "    }\n",
              "    60% {\n",
              "      border-color: transparent;\n",
              "      border-right-color: var(--fill-color);\n",
              "    }\n",
              "    80% {\n",
              "      border-color: transparent;\n",
              "      border-right-color: var(--fill-color);\n",
              "      border-bottom-color: var(--fill-color);\n",
              "    }\n",
              "    90% {\n",
              "      border-color: transparent;\n",
              "      border-bottom-color: var(--fill-color);\n",
              "    }\n",
              "  }\n",
              "</style>\n",
              "\n",
              "  <script>\n",
              "    async function quickchart(key) {\n",
              "      const quickchartButtonEl =\n",
              "        document.querySelector('#' + key + ' button');\n",
              "      quickchartButtonEl.disabled = true;  // To prevent multiple clicks.\n",
              "      quickchartButtonEl.classList.add('colab-df-spinner');\n",
              "      try {\n",
              "        const charts = await google.colab.kernel.invokeFunction(\n",
              "            'suggestCharts', [key], {});\n",
              "      } catch (error) {\n",
              "        console.error('Error during call to suggestCharts:', error);\n",
              "      }\n",
              "      quickchartButtonEl.classList.remove('colab-df-spinner');\n",
              "      quickchartButtonEl.classList.add('colab-df-quickchart-complete');\n",
              "    }\n",
              "    (() => {\n",
              "      let quickchartButtonEl =\n",
              "        document.querySelector('#df-6e5f3c2b-3023-4cae-97ef-c735ebeef32f button');\n",
              "      quickchartButtonEl.style.display =\n",
              "        google.colab.kernel.accessAllowed ? 'block' : 'none';\n",
              "    })();\n",
              "  </script>\n",
              "</div>\n",
              "    </div>\n",
              "  </div>\n"
            ]
          },
          "metadata": {},
          "execution_count": 88
        }
      ]
    },
    {
      "cell_type": "markdown",
      "source": [
        "loaded a CSV file named 'auto_imports1.csv' into a DataFrame called 'df' using the Pandas library in Python. After that displayed the first few rows of the DataFrame using the head() method."
      ],
      "metadata": {
        "id": "84GAASGnBnRf"
      },
      "id": "84GAASGnBnRf"
    },
    {
      "cell_type": "code",
      "source": [
        "## Your code here\n",
        "import pandas as pd\n",
        "df = pd.read_csv('auto_imports1.csv')\n",
        "\n",
        "# Replace '?' with None\n",
        "df = df.replace('?', None)\n",
        "\n",
        "# Convert the specified columns to float64\n",
        "columns_to_convert = ['bore', 'stroke', 'horse_power', 'peak_rpm']\n",
        "df[columns_to_convert] = df[columns_to_convert].astype(float)"
      ],
      "metadata": {
        "id": "bSKSFVHGFUh9"
      },
      "id": "bSKSFVHGFUh9",
      "execution_count": 89,
      "outputs": []
    },
    {
      "cell_type": "code",
      "source": [],
      "metadata": {
        "id": "mf2YhtNTnWFP"
      },
      "id": "mf2YhtNTnWFP",
      "execution_count": 89,
      "outputs": []
    },
    {
      "cell_type": "markdown",
      "source": [
        " This code reads a CSV file named 'auto_imports1.csv' into a Pandas DataFrame ('df'). It then replaces any occurrences of '?' with None in the entire DataFrame and converts specific columns ('bore', 'stroke', 'horse_power', 'peak_rpm') to the float64 data type.\n"
      ],
      "metadata": {
        "id": "8K5hAHvJHJ-I"
      },
      "id": "8K5hAHvJHJ-I"
    },
    {
      "cell_type": "code",
      "source": [
        "\n",
        "# Drop the specified columns\n",
        "columns_to_drop = ['body', 'engine_type', 'cylinders']\n",
        "df2 = df.drop(columns=columns_to_drop)\n",
        "df2.info()\n"
      ],
      "metadata": {
        "colab": {
          "base_uri": "https://localhost:8080/"
        },
        "id": "w_OpEMkGFlVV",
        "outputId": "570f451b-62a5-4c33-a61c-2f4ccca4cf65"
      },
      "id": "w_OpEMkGFlVV",
      "execution_count": 90,
      "outputs": [
        {
          "output_type": "stream",
          "name": "stdout",
          "text": [
            "<class 'pandas.core.frame.DataFrame'>\n",
            "RangeIndex: 201 entries, 0 to 200\n",
            "Data columns (total 15 columns):\n",
            " #   Column       Non-Null Count  Dtype  \n",
            "---  ------       --------------  -----  \n",
            " 0   fuel_type    201 non-null    object \n",
            " 1   wheel_base   201 non-null    float64\n",
            " 2   length       201 non-null    float64\n",
            " 3   width        201 non-null    float64\n",
            " 4   heights      201 non-null    float64\n",
            " 5   curb_weight  201 non-null    int64  \n",
            " 6   engine_size  201 non-null    int64  \n",
            " 7   bore         197 non-null    float64\n",
            " 8   stroke       197 non-null    float64\n",
            " 9   comprassion  201 non-null    float64\n",
            " 10  horse_power  199 non-null    float64\n",
            " 11  peak_rpm     199 non-null    float64\n",
            " 12  city_mpg     201 non-null    int64  \n",
            " 13  highway_mpg  201 non-null    int64  \n",
            " 14  price        201 non-null    int64  \n",
            "dtypes: float64(9), int64(5), object(1)\n",
            "memory usage: 23.7+ KB\n"
          ]
        }
      ]
    },
    {
      "cell_type": "markdown",
      "source": [
        "This code drops the specified columns ('body', 'engine_type', 'cylinders') from the DataFrame 'df' and creates a new DataFrame 'df2'. The original DataFrame 'df' remains unchanged.The info() method provides a concise summary of the DataFrame, including the number of non-null values and data types for each column."
      ],
      "metadata": {
        "id": "yPRsBo3MJfq1"
      },
      "id": "yPRsBo3MJfq1"
    },
    {
      "cell_type": "code",
      "source": [
        "df2 = df2.dropna()\n",
        "df2.isnull().sum()\n",
        "df2.info()\n"
      ],
      "metadata": {
        "colab": {
          "base_uri": "https://localhost:8080/"
        },
        "id": "SZr4-mGyFsMe",
        "outputId": "12e4d03d-0261-460d-c534-e4d5f8b20027"
      },
      "id": "SZr4-mGyFsMe",
      "execution_count": 91,
      "outputs": [
        {
          "output_type": "stream",
          "name": "stdout",
          "text": [
            "<class 'pandas.core.frame.DataFrame'>\n",
            "Int64Index: 195 entries, 0 to 200\n",
            "Data columns (total 15 columns):\n",
            " #   Column       Non-Null Count  Dtype  \n",
            "---  ------       --------------  -----  \n",
            " 0   fuel_type    195 non-null    object \n",
            " 1   wheel_base   195 non-null    float64\n",
            " 2   length       195 non-null    float64\n",
            " 3   width        195 non-null    float64\n",
            " 4   heights      195 non-null    float64\n",
            " 5   curb_weight  195 non-null    int64  \n",
            " 6   engine_size  195 non-null    int64  \n",
            " 7   bore         195 non-null    float64\n",
            " 8   stroke       195 non-null    float64\n",
            " 9   comprassion  195 non-null    float64\n",
            " 10  horse_power  195 non-null    float64\n",
            " 11  peak_rpm     195 non-null    float64\n",
            " 12  city_mpg     195 non-null    int64  \n",
            " 13  highway_mpg  195 non-null    int64  \n",
            " 14  price        195 non-null    int64  \n",
            "dtypes: float64(9), int64(5), object(1)\n",
            "memory usage: 24.4+ KB\n"
          ]
        }
      ]
    },
    {
      "cell_type": "markdown",
      "id": "5cf4e2d8",
      "metadata": {
        "id": "5cf4e2d8"
      },
      "source": [
        "In our class we covered multiple classification methods. In this part of the home work you can compare them\n",
        "\n",
        "**Use the dataset 'auto_imports1.csv' from our previous homeworks. More specifically, use the version you created called df2 where you already cleaned, dropped some of the variables but DID NOT CREATE dummy variables. Follow the prompts to complete the homework.**"
      ]
    },
    {
      "cell_type": "markdown",
      "id": "7356dab7",
      "metadata": {
        "id": "7356dab7"
      },
      "source": [
        "## 2.1 **Replace ['gas', 'diesel'] string values to [0, 1]**"
      ]
    },
    {
      "cell_type": "code",
      "execution_count": 92,
      "id": "127b23b0",
      "metadata": {
        "id": "127b23b0",
        "colab": {
          "base_uri": "https://localhost:8080/",
          "height": 202
        },
        "outputId": "d4576f62-4c17-4771-e67a-ee1bc7f6c367"
      },
      "outputs": [
        {
          "output_type": "execute_result",
          "data": {
            "text/plain": [
              "   fuel_type  wheel_base  length  width  heights  curb_weight  engine_size  \\\n",
              "0          0        88.6   168.8   64.1     48.8         2548          130   \n",
              "1          0        88.6   168.8   64.1     48.8         2548          130   \n",
              "2          0        94.5   171.2   65.5     52.4         2823          152   \n",
              "3          0        99.8   176.6   66.2     54.3         2337          109   \n",
              "4          0        99.4   176.6   66.4     54.3         2824          136   \n",
              "\n",
              "   bore  stroke  comprassion  horse_power  peak_rpm  city_mpg  highway_mpg  \\\n",
              "0  3.47    2.68          9.0        111.0    5000.0        21           27   \n",
              "1  3.47    2.68          9.0        111.0    5000.0        21           27   \n",
              "2  2.68    3.47          9.0        154.0    5000.0        19           26   \n",
              "3  3.19    3.40         10.0        102.0    5500.0        24           30   \n",
              "4  3.19    3.40          8.0        115.0    5500.0        18           22   \n",
              "\n",
              "   price  \n",
              "0  13495  \n",
              "1  16500  \n",
              "2  16500  \n",
              "3  13950  \n",
              "4  17450  "
            ],
            "text/html": [
              "\n",
              "  <div id=\"df-2458780b-47ee-42e1-915b-e6a61030422d\" class=\"colab-df-container\">\n",
              "    <div>\n",
              "<style scoped>\n",
              "    .dataframe tbody tr th:only-of-type {\n",
              "        vertical-align: middle;\n",
              "    }\n",
              "\n",
              "    .dataframe tbody tr th {\n",
              "        vertical-align: top;\n",
              "    }\n",
              "\n",
              "    .dataframe thead th {\n",
              "        text-align: right;\n",
              "    }\n",
              "</style>\n",
              "<table border=\"1\" class=\"dataframe\">\n",
              "  <thead>\n",
              "    <tr style=\"text-align: right;\">\n",
              "      <th></th>\n",
              "      <th>fuel_type</th>\n",
              "      <th>wheel_base</th>\n",
              "      <th>length</th>\n",
              "      <th>width</th>\n",
              "      <th>heights</th>\n",
              "      <th>curb_weight</th>\n",
              "      <th>engine_size</th>\n",
              "      <th>bore</th>\n",
              "      <th>stroke</th>\n",
              "      <th>comprassion</th>\n",
              "      <th>horse_power</th>\n",
              "      <th>peak_rpm</th>\n",
              "      <th>city_mpg</th>\n",
              "      <th>highway_mpg</th>\n",
              "      <th>price</th>\n",
              "    </tr>\n",
              "  </thead>\n",
              "  <tbody>\n",
              "    <tr>\n",
              "      <th>0</th>\n",
              "      <td>0</td>\n",
              "      <td>88.6</td>\n",
              "      <td>168.8</td>\n",
              "      <td>64.1</td>\n",
              "      <td>48.8</td>\n",
              "      <td>2548</td>\n",
              "      <td>130</td>\n",
              "      <td>3.47</td>\n",
              "      <td>2.68</td>\n",
              "      <td>9.0</td>\n",
              "      <td>111.0</td>\n",
              "      <td>5000.0</td>\n",
              "      <td>21</td>\n",
              "      <td>27</td>\n",
              "      <td>13495</td>\n",
              "    </tr>\n",
              "    <tr>\n",
              "      <th>1</th>\n",
              "      <td>0</td>\n",
              "      <td>88.6</td>\n",
              "      <td>168.8</td>\n",
              "      <td>64.1</td>\n",
              "      <td>48.8</td>\n",
              "      <td>2548</td>\n",
              "      <td>130</td>\n",
              "      <td>3.47</td>\n",
              "      <td>2.68</td>\n",
              "      <td>9.0</td>\n",
              "      <td>111.0</td>\n",
              "      <td>5000.0</td>\n",
              "      <td>21</td>\n",
              "      <td>27</td>\n",
              "      <td>16500</td>\n",
              "    </tr>\n",
              "    <tr>\n",
              "      <th>2</th>\n",
              "      <td>0</td>\n",
              "      <td>94.5</td>\n",
              "      <td>171.2</td>\n",
              "      <td>65.5</td>\n",
              "      <td>52.4</td>\n",
              "      <td>2823</td>\n",
              "      <td>152</td>\n",
              "      <td>2.68</td>\n",
              "      <td>3.47</td>\n",
              "      <td>9.0</td>\n",
              "      <td>154.0</td>\n",
              "      <td>5000.0</td>\n",
              "      <td>19</td>\n",
              "      <td>26</td>\n",
              "      <td>16500</td>\n",
              "    </tr>\n",
              "    <tr>\n",
              "      <th>3</th>\n",
              "      <td>0</td>\n",
              "      <td>99.8</td>\n",
              "      <td>176.6</td>\n",
              "      <td>66.2</td>\n",
              "      <td>54.3</td>\n",
              "      <td>2337</td>\n",
              "      <td>109</td>\n",
              "      <td>3.19</td>\n",
              "      <td>3.40</td>\n",
              "      <td>10.0</td>\n",
              "      <td>102.0</td>\n",
              "      <td>5500.0</td>\n",
              "      <td>24</td>\n",
              "      <td>30</td>\n",
              "      <td>13950</td>\n",
              "    </tr>\n",
              "    <tr>\n",
              "      <th>4</th>\n",
              "      <td>0</td>\n",
              "      <td>99.4</td>\n",
              "      <td>176.6</td>\n",
              "      <td>66.4</td>\n",
              "      <td>54.3</td>\n",
              "      <td>2824</td>\n",
              "      <td>136</td>\n",
              "      <td>3.19</td>\n",
              "      <td>3.40</td>\n",
              "      <td>8.0</td>\n",
              "      <td>115.0</td>\n",
              "      <td>5500.0</td>\n",
              "      <td>18</td>\n",
              "      <td>22</td>\n",
              "      <td>17450</td>\n",
              "    </tr>\n",
              "  </tbody>\n",
              "</table>\n",
              "</div>\n",
              "    <div class=\"colab-df-buttons\">\n",
              "\n",
              "  <div class=\"colab-df-container\">\n",
              "    <button class=\"colab-df-convert\" onclick=\"convertToInteractive('df-2458780b-47ee-42e1-915b-e6a61030422d')\"\n",
              "            title=\"Convert this dataframe to an interactive table.\"\n",
              "            style=\"display:none;\">\n",
              "\n",
              "  <svg xmlns=\"http://www.w3.org/2000/svg\" height=\"24px\" viewBox=\"0 -960 960 960\">\n",
              "    <path d=\"M120-120v-720h720v720H120Zm60-500h600v-160H180v160Zm220 220h160v-160H400v160Zm0 220h160v-160H400v160ZM180-400h160v-160H180v160Zm440 0h160v-160H620v160ZM180-180h160v-160H180v160Zm440 0h160v-160H620v160Z\"/>\n",
              "  </svg>\n",
              "    </button>\n",
              "\n",
              "  <style>\n",
              "    .colab-df-container {\n",
              "      display:flex;\n",
              "      gap: 12px;\n",
              "    }\n",
              "\n",
              "    .colab-df-convert {\n",
              "      background-color: #E8F0FE;\n",
              "      border: none;\n",
              "      border-radius: 50%;\n",
              "      cursor: pointer;\n",
              "      display: none;\n",
              "      fill: #1967D2;\n",
              "      height: 32px;\n",
              "      padding: 0 0 0 0;\n",
              "      width: 32px;\n",
              "    }\n",
              "\n",
              "    .colab-df-convert:hover {\n",
              "      background-color: #E2EBFA;\n",
              "      box-shadow: 0px 1px 2px rgba(60, 64, 67, 0.3), 0px 1px 3px 1px rgba(60, 64, 67, 0.15);\n",
              "      fill: #174EA6;\n",
              "    }\n",
              "\n",
              "    .colab-df-buttons div {\n",
              "      margin-bottom: 4px;\n",
              "    }\n",
              "\n",
              "    [theme=dark] .colab-df-convert {\n",
              "      background-color: #3B4455;\n",
              "      fill: #D2E3FC;\n",
              "    }\n",
              "\n",
              "    [theme=dark] .colab-df-convert:hover {\n",
              "      background-color: #434B5C;\n",
              "      box-shadow: 0px 1px 3px 1px rgba(0, 0, 0, 0.15);\n",
              "      filter: drop-shadow(0px 1px 2px rgba(0, 0, 0, 0.3));\n",
              "      fill: #FFFFFF;\n",
              "    }\n",
              "  </style>\n",
              "\n",
              "    <script>\n",
              "      const buttonEl =\n",
              "        document.querySelector('#df-2458780b-47ee-42e1-915b-e6a61030422d button.colab-df-convert');\n",
              "      buttonEl.style.display =\n",
              "        google.colab.kernel.accessAllowed ? 'block' : 'none';\n",
              "\n",
              "      async function convertToInteractive(key) {\n",
              "        const element = document.querySelector('#df-2458780b-47ee-42e1-915b-e6a61030422d');\n",
              "        const dataTable =\n",
              "          await google.colab.kernel.invokeFunction('convertToInteractive',\n",
              "                                                    [key], {});\n",
              "        if (!dataTable) return;\n",
              "\n",
              "        const docLinkHtml = 'Like what you see? Visit the ' +\n",
              "          '<a target=\"_blank\" href=https://colab.research.google.com/notebooks/data_table.ipynb>data table notebook</a>'\n",
              "          + ' to learn more about interactive tables.';\n",
              "        element.innerHTML = '';\n",
              "        dataTable['output_type'] = 'display_data';\n",
              "        await google.colab.output.renderOutput(dataTable, element);\n",
              "        const docLink = document.createElement('div');\n",
              "        docLink.innerHTML = docLinkHtml;\n",
              "        element.appendChild(docLink);\n",
              "      }\n",
              "    </script>\n",
              "  </div>\n",
              "\n",
              "\n",
              "<div id=\"df-e168b58d-9d46-4076-9b3d-e3e9e8d320d1\">\n",
              "  <button class=\"colab-df-quickchart\" onclick=\"quickchart('df-e168b58d-9d46-4076-9b3d-e3e9e8d320d1')\"\n",
              "            title=\"Suggest charts\"\n",
              "            style=\"display:none;\">\n",
              "\n",
              "<svg xmlns=\"http://www.w3.org/2000/svg\" height=\"24px\"viewBox=\"0 0 24 24\"\n",
              "     width=\"24px\">\n",
              "    <g>\n",
              "        <path d=\"M19 3H5c-1.1 0-2 .9-2 2v14c0 1.1.9 2 2 2h14c1.1 0 2-.9 2-2V5c0-1.1-.9-2-2-2zM9 17H7v-7h2v7zm4 0h-2V7h2v10zm4 0h-2v-4h2v4z\"/>\n",
              "    </g>\n",
              "</svg>\n",
              "  </button>\n",
              "\n",
              "<style>\n",
              "  .colab-df-quickchart {\n",
              "      --bg-color: #E8F0FE;\n",
              "      --fill-color: #1967D2;\n",
              "      --hover-bg-color: #E2EBFA;\n",
              "      --hover-fill-color: #174EA6;\n",
              "      --disabled-fill-color: #AAA;\n",
              "      --disabled-bg-color: #DDD;\n",
              "  }\n",
              "\n",
              "  [theme=dark] .colab-df-quickchart {\n",
              "      --bg-color: #3B4455;\n",
              "      --fill-color: #D2E3FC;\n",
              "      --hover-bg-color: #434B5C;\n",
              "      --hover-fill-color: #FFFFFF;\n",
              "      --disabled-bg-color: #3B4455;\n",
              "      --disabled-fill-color: #666;\n",
              "  }\n",
              "\n",
              "  .colab-df-quickchart {\n",
              "    background-color: var(--bg-color);\n",
              "    border: none;\n",
              "    border-radius: 50%;\n",
              "    cursor: pointer;\n",
              "    display: none;\n",
              "    fill: var(--fill-color);\n",
              "    height: 32px;\n",
              "    padding: 0;\n",
              "    width: 32px;\n",
              "  }\n",
              "\n",
              "  .colab-df-quickchart:hover {\n",
              "    background-color: var(--hover-bg-color);\n",
              "    box-shadow: 0 1px 2px rgba(60, 64, 67, 0.3), 0 1px 3px 1px rgba(60, 64, 67, 0.15);\n",
              "    fill: var(--button-hover-fill-color);\n",
              "  }\n",
              "\n",
              "  .colab-df-quickchart-complete:disabled,\n",
              "  .colab-df-quickchart-complete:disabled:hover {\n",
              "    background-color: var(--disabled-bg-color);\n",
              "    fill: var(--disabled-fill-color);\n",
              "    box-shadow: none;\n",
              "  }\n",
              "\n",
              "  .colab-df-spinner {\n",
              "    border: 2px solid var(--fill-color);\n",
              "    border-color: transparent;\n",
              "    border-bottom-color: var(--fill-color);\n",
              "    animation:\n",
              "      spin 1s steps(1) infinite;\n",
              "  }\n",
              "\n",
              "  @keyframes spin {\n",
              "    0% {\n",
              "      border-color: transparent;\n",
              "      border-bottom-color: var(--fill-color);\n",
              "      border-left-color: var(--fill-color);\n",
              "    }\n",
              "    20% {\n",
              "      border-color: transparent;\n",
              "      border-left-color: var(--fill-color);\n",
              "      border-top-color: var(--fill-color);\n",
              "    }\n",
              "    30% {\n",
              "      border-color: transparent;\n",
              "      border-left-color: var(--fill-color);\n",
              "      border-top-color: var(--fill-color);\n",
              "      border-right-color: var(--fill-color);\n",
              "    }\n",
              "    40% {\n",
              "      border-color: transparent;\n",
              "      border-right-color: var(--fill-color);\n",
              "      border-top-color: var(--fill-color);\n",
              "    }\n",
              "    60% {\n",
              "      border-color: transparent;\n",
              "      border-right-color: var(--fill-color);\n",
              "    }\n",
              "    80% {\n",
              "      border-color: transparent;\n",
              "      border-right-color: var(--fill-color);\n",
              "      border-bottom-color: var(--fill-color);\n",
              "    }\n",
              "    90% {\n",
              "      border-color: transparent;\n",
              "      border-bottom-color: var(--fill-color);\n",
              "    }\n",
              "  }\n",
              "</style>\n",
              "\n",
              "  <script>\n",
              "    async function quickchart(key) {\n",
              "      const quickchartButtonEl =\n",
              "        document.querySelector('#' + key + ' button');\n",
              "      quickchartButtonEl.disabled = true;  // To prevent multiple clicks.\n",
              "      quickchartButtonEl.classList.add('colab-df-spinner');\n",
              "      try {\n",
              "        const charts = await google.colab.kernel.invokeFunction(\n",
              "            'suggestCharts', [key], {});\n",
              "      } catch (error) {\n",
              "        console.error('Error during call to suggestCharts:', error);\n",
              "      }\n",
              "      quickchartButtonEl.classList.remove('colab-df-spinner');\n",
              "      quickchartButtonEl.classList.add('colab-df-quickchart-complete');\n",
              "    }\n",
              "    (() => {\n",
              "      let quickchartButtonEl =\n",
              "        document.querySelector('#df-e168b58d-9d46-4076-9b3d-e3e9e8d320d1 button');\n",
              "      quickchartButtonEl.style.display =\n",
              "        google.colab.kernel.accessAllowed ? 'block' : 'none';\n",
              "    })();\n",
              "  </script>\n",
              "</div>\n",
              "    </div>\n",
              "  </div>\n"
            ]
          },
          "metadata": {},
          "execution_count": 92
        }
      ],
      "source": [
        "#Your code\n",
        "df2.replace({'gas': 0, 'diesel': 1}, inplace=True)\n",
        "#print(df.replace)\n",
        "df2.head()\n"
      ]
    },
    {
      "cell_type": "markdown",
      "source": [
        "This code snippet replaces the values 'gas' with 0 and 'diesel' with 1 in the DataFrame 'df2' using the replace method. The inplace=True argument modifies the DataFrame in place.\n",
        "\n",
        "checking the resulting DataFrame using df2.head() to verify that the replacement was successful."
      ],
      "metadata": {
        "id": "KrF_U5Z5RE9t"
      },
      "id": "KrF_U5Z5RE9t"
    },
    {
      "cell_type": "markdown",
      "id": "c3851124",
      "metadata": {
        "id": "c3851124"
      },
      "source": [
        "## 2.2 : Define your X and y: your dependent variable is fuel_type, the rest of the variables are your independent variables"
      ]
    },
    {
      "cell_type": "code",
      "execution_count": 93,
      "id": "f3735085",
      "metadata": {
        "id": "f3735085",
        "colab": {
          "base_uri": "https://localhost:8080/"
        },
        "outputId": "8caf6efc-b179-4f2d-c7ff-8a500ec5b00c"
      },
      "outputs": [
        {
          "output_type": "stream",
          "name": "stdout",
          "text": [
            "Independent Variables\n",
            "     wheel_base  length  width  heights  curb_weight  engine_size  bore  \\\n",
            "0          88.6   168.8   64.1     48.8         2548          130  3.47   \n",
            "1          88.6   168.8   64.1     48.8         2548          130  3.47   \n",
            "2          94.5   171.2   65.5     52.4         2823          152  2.68   \n",
            "3          99.8   176.6   66.2     54.3         2337          109  3.19   \n",
            "4          99.4   176.6   66.4     54.3         2824          136  3.19   \n",
            "..          ...     ...    ...      ...          ...          ...   ...   \n",
            "196       109.1   188.8   68.9     55.5         2952          141  3.78   \n",
            "197       109.1   188.8   68.8     55.5         3049          141  3.78   \n",
            "198       109.1   188.8   68.9     55.5         3012          173  3.58   \n",
            "199       109.1   188.8   68.9     55.5         3217          145  3.01   \n",
            "200       109.1   188.8   68.9     55.5         3062          141  3.78   \n",
            "\n",
            "     stroke  comprassion  horse_power  peak_rpm  city_mpg  highway_mpg  price  \n",
            "0      2.68          9.0        111.0    5000.0        21           27  13495  \n",
            "1      2.68          9.0        111.0    5000.0        21           27  16500  \n",
            "2      3.47          9.0        154.0    5000.0        19           26  16500  \n",
            "3      3.40         10.0        102.0    5500.0        24           30  13950  \n",
            "4      3.40          8.0        115.0    5500.0        18           22  17450  \n",
            "..      ...          ...          ...       ...       ...          ...    ...  \n",
            "196    3.15          9.5        114.0    5400.0        23           28  16845  \n",
            "197    3.15          8.7        160.0    5300.0        19           25  19045  \n",
            "198    2.87          8.8        134.0    5500.0        18           23  21485  \n",
            "199    3.40         23.0        106.0    4800.0        26           27  22470  \n",
            "200    3.15          9.5        114.0    5400.0        19           25  22625  \n",
            "\n",
            "[195 rows x 14 columns]\n",
            "\n",
            "Dependent Variable\n",
            "0      0\n",
            "1      0\n",
            "2      0\n",
            "3      0\n",
            "4      0\n",
            "      ..\n",
            "196    0\n",
            "197    0\n",
            "198    0\n",
            "199    1\n",
            "200    0\n",
            "Name: fuel_type, Length: 195, dtype: int64\n"
          ]
        }
      ],
      "source": [
        "\n",
        "X = df2.drop('fuel_type', axis=1)  # Drop the 'fuel_type_gas' column to get the independent variables\n",
        "y = df2['fuel_type'] #dependent variable\n",
        "#Prints the values of independent variables\n",
        "print('Independent Variables')\n",
        "print(X)\n",
        "#prints the values of dependent variables\n",
        "print('\\nDependent Variable')\n",
        "print(y)\n",
        "\n",
        "\n"
      ]
    },
    {
      "cell_type": "markdown",
      "source": [
        " Creating independent variables (X) and a dependent variable (y) from the DataFrame df2. The code provided is dropping the 'fuel_type' column from df2 to obtain independent variables (X), and it sets 'fuel_type' as the dependent variable (y).\n",
        " Since I replaced 'gas' with 0 and 'diesel' with 1 in the 'fuel_type' column, the values in the 'y' variable will be 0 for 'gas' and 1 for 'diesel'.  "
      ],
      "metadata": {
        "id": "oM3SWAmmZrtl"
      },
      "id": "oM3SWAmmZrtl"
    },
    {
      "cell_type": "markdown",
      "id": "cf86f4df",
      "metadata": {
        "id": "cf86f4df"
      },
      "source": [
        "## 2.3 Split your data into training and testing set. Use test_size=0.3, random_state=746 !"
      ]
    },
    {
      "cell_type": "code",
      "execution_count": 94,
      "id": "2e6c1b4f",
      "metadata": {
        "id": "2e6c1b4f",
        "colab": {
          "base_uri": "https://localhost:8080/"
        },
        "outputId": "2ec791ec-2570-4c2f-d373-c597be41def6"
      },
      "outputs": [
        {
          "output_type": "stream",
          "name": "stdout",
          "text": [
            "     wheel_base  length  width  heights  curb_weight  engine_size  bore  \\\n",
            "64        110.0   190.9   70.3     56.5         3515          183  3.58   \n",
            "197       109.1   188.8   68.8     55.5         3049          141  3.78   \n",
            "83         96.3   172.4   65.4     51.6         2405          122  3.35   \n",
            "135        93.7   157.9   63.6     53.7         2120          108  3.62   \n",
            "114       108.0   186.7   68.3     56.0         3130          134  3.61   \n",
            "..          ...     ...    ...      ...          ...          ...   ...   \n",
            "124        89.5   168.9   65.0     51.6         2756          194  3.74   \n",
            "21         93.7   157.3   63.8     50.8         1876           90  2.97   \n",
            "100       100.4   184.6   66.5     55.1         3060          181  3.43   \n",
            "5          99.8   177.3   66.3     53.1         2507          136  3.19   \n",
            "112       107.9   186.7   68.4     56.7         3075          120  3.46   \n",
            "\n",
            "     stroke  comprassion  horse_power  peak_rpm  city_mpg  highway_mpg  price  \n",
            "64     3.64         21.5        123.0    4350.0        22           25  25552  \n",
            "197    3.15          8.7        160.0    5300.0        19           25  19045  \n",
            "83     3.46          8.5         88.0    5000.0        25           32   8189  \n",
            "135    2.64          8.7         73.0    4400.0        26           31   7053  \n",
            "114    3.21          7.0        142.0    5600.0        18           24  18150  \n",
            "..      ...          ...          ...       ...       ...          ...    ...  \n",
            "124    2.90          9.5        207.0    5900.0        17           25  34028  \n",
            "21     3.23          9.4         68.0    5500.0        31           38   6377  \n",
            "100    3.27          9.0        152.0    5200.0        19           25  13499  \n",
            "5      3.40          8.5        110.0    5500.0        19           25  15250  \n",
            "112    3.19          8.4         97.0    5000.0        19           24  16630  \n",
            "\n",
            "[136 rows x 14 columns]\n",
            "     wheel_base  length  width  heights  curb_weight  engine_size  bore  \\\n",
            "15        103.5   193.8   67.9     53.7         3380          209  3.62   \n",
            "106       114.2   198.9   68.4     58.7         3230          120  3.46   \n",
            "136        93.3   157.3   63.8     55.7         2240          108  3.62   \n",
            "85         96.3   172.4   65.4     51.6         2403          110  3.17   \n",
            "131        99.1   186.6   66.5     56.1         2758          121  3.54   \n",
            "6         105.8   192.7   71.4     55.7         2844          136  3.19   \n",
            "31         93.7   150.0   64.0     52.6         1837           79  2.91   \n",
            "145        96.9   173.6   65.4     54.9         2650          108  3.62   \n",
            "168        98.4   176.2   65.6     53.0         2975          146  3.62   \n",
            "74         93.7   157.3   64.4     50.8         1944           92  2.97   \n",
            "27        103.3   174.6   64.6     59.8         2535          122  3.34   \n",
            "170       102.4   175.6   66.5     54.9         2480          110  3.27   \n",
            "71        112.0   199.2   72.0     55.4         3715          304  3.80   \n",
            "17         88.4   141.1   60.3     53.2         1488           61  2.91   \n",
            "156        95.7   166.3   64.4     53.0         2094           98  3.19   \n",
            "175       102.9   183.5   67.7     52.0         3016          171  3.27   \n",
            "42         94.3   170.7   61.8     53.5         2337          111  3.31   \n",
            "2          94.5   171.2   65.5     52.4         2823          152  2.68   \n",
            "158        95.7   166.3   64.4     52.8         2140           98  3.19   \n",
            "90         94.5   170.2   63.8     53.5         2024           97  3.15   \n",
            "13        103.5   189.0   66.9     55.7         3055          164  3.31   \n",
            "144        96.9   173.6   65.4     54.9         2420          108  3.62   \n",
            "165        98.4   176.2   65.6     52.0         2551          146  3.62   \n",
            "178        97.3   171.7   65.5     55.7         2261           97  3.01   \n",
            "11        101.2   176.8   64.8     54.3         2710          164  3.31   \n",
            "108       107.9   186.7   68.4     56.7         3075          120  3.46   \n",
            "29         86.6   144.6   63.9     50.8         1713           92  2.91   \n",
            "150        95.7   169.7   63.6     59.1         2290           92  3.05   \n",
            "172       102.4   175.6   66.5     54.9         2414          122  3.31   \n",
            "109       107.9   186.7   68.4     56.7         3252          152  3.70   \n",
            "84         96.3   172.4   65.4     51.6         2403          110  3.17   \n",
            "110       114.2   198.9   68.4     56.7         3285          120  3.46   \n",
            "7         105.8   192.7   71.4     55.7         2954          136  3.19   \n",
            "87         94.5   165.3   63.8     54.5         2017          103  2.99   \n",
            "120       103.3   174.6   64.6     59.8         2535          122  3.35   \n",
            "133        99.1   186.6   66.5     56.1         2847          121  3.54   \n",
            "60         98.8   177.8   66.5     55.5         2443          122  3.39   \n",
            "76         93.0   157.3   63.8     50.8         2145           98  3.03   \n",
            "199       109.1   188.8   68.9     55.5         3217          145  3.01   \n",
            "148        95.7   158.7   63.6     54.5         2015           92  3.05   \n",
            "152        95.7   166.3   64.4     53.0         2081           98  3.19   \n",
            "169       102.4   175.6   66.5     54.9         2326          122  3.31   \n",
            "40         96.5   175.4   65.2     54.1         2465          110  3.15   \n",
            "190       104.3   188.8   67.2     56.2         2912          141  3.78   \n",
            "192       104.3   188.8   67.2     56.2         2935          141  3.78   \n",
            "143        97.0   173.5   65.4     53.0         2455          108  3.62   \n",
            "93         94.5   165.3   63.8     54.5         1971           97  3.15   \n",
            "26         93.7   157.3   63.8     50.6         2191           98  3.03   \n",
            "154        95.7   166.3   64.4     53.0         2275          110  3.27   \n",
            "179        97.3   171.7   65.5     55.7         2209          109  3.19   \n",
            "63        104.9   175.0   66.1     54.4         2700          134  3.43   \n",
            "65        110.0   190.9   70.3     58.7         3750          183  3.58   \n",
            "182        97.3   171.7   65.5     55.7         2275          109  3.19   \n",
            "161        94.5   168.7   64.0     52.6         2265           98  3.24   \n",
            "137        97.2   172.0   65.4     52.5         2145          108  3.62   \n",
            "153        95.7   166.3   64.4     52.8         2109           98  3.19   \n",
            "23         93.7   157.3   63.8     50.6         1967           90  2.97   \n",
            "123        89.5   168.9   65.0     51.6         2756          194  3.74   \n",
            "99        100.4   184.6   66.5     56.1         3296          181  3.43   \n",
            "\n",
            "     stroke  comprassion  horse_power  peak_rpm  city_mpg  highway_mpg  price  \n",
            "15     3.39          8.0        182.0    5400.0        16           22  41315  \n",
            "106    3.19          8.4         97.0    5000.0        19           24  12440  \n",
            "136    2.64          8.7         73.0    4400.0        26           31   7603  \n",
            "85     3.46          7.5        116.0    5500.0        23           30   9279  \n",
            "131    3.07          9.3        110.0    5250.0        21           28  15510  \n",
            "6      3.40          8.5        110.0    5500.0        19           25  17710  \n",
            "31     3.07         10.1         60.0    5500.0        38           42   5399  \n",
            "145    2.64          7.7        111.0    4800.0        23           23  11694  \n",
            "168    3.50          9.3        116.0    4800.0        24           30  17669  \n",
            "74     3.23          9.4         68.0    5500.0        31           38   6189  \n",
            "27     3.46          8.5         88.0    5000.0        24           30   8921  \n",
            "170    3.35         22.5         73.0    4500.0        30           33  10698  \n",
            "71     3.35          8.0        184.0    4500.0        14           16  45400  \n",
            "17     3.03          9.5         48.0    5100.0        47           53   5151  \n",
            "156    3.03          9.0         70.0    4800.0        38           47   7738  \n",
            "175    3.35          9.3        161.0    5200.0        19           24  15998  \n",
            "42     3.23          8.5         78.0    4800.0        24           29   6785  \n",
            "2      3.47          9.0        154.0    5000.0        19           26  16500  \n",
            "158    3.03          9.0         70.0    4800.0        28           34   9258  \n",
            "90     3.29          9.4         69.0    5200.0        31           37   7349  \n",
            "13     3.19          9.0        121.0    4250.0        20           25  24565  \n",
            "144    2.64          9.0         82.0    4800.0        23           29   8013  \n",
            "165    3.50          9.3        116.0    4800.0        24           30   9989  \n",
            "178    3.40         23.0         52.0    4800.0        37           46   7775  \n",
            "11     3.19          9.0        121.0    4250.0        21           28  20970  \n",
            "108    2.19          8.4         95.0    5000.0        19           24  15580  \n",
            "29     3.41          9.6         58.0    4800.0        49           54   6479  \n",
            "150    3.03          9.0         62.0    4800.0        27           32   7898  \n",
            "172    3.54          8.7         92.0    4200.0        27           32  10898  \n",
            "109    3.52         21.0         95.0    4150.0        28           33  16900  \n",
            "84     3.46          7.5        116.0    5500.0        23           30   9279  \n",
            "110    2.19          8.4         95.0    5000.0        19           24  16695  \n",
            "7      3.40          8.5        110.0    5500.0        19           25  18920  \n",
            "87     3.47         21.9         55.0    4800.0        45           50   7099  \n",
            "120    3.46          8.5         88.0    5000.0        24           30   8921  \n",
            "133    3.07          9.0        160.0    5500.0        19           26  18620  \n",
            "60     3.39         22.7         64.0    4650.0        36           42  10795  \n",
            "76     3.39          7.6        102.0    5500.0        24           30   7689  \n",
            "199    3.40         23.0        106.0    4800.0        26           27  22470  \n",
            "148    3.03          9.0         62.0    4800.0        31           38   6488  \n",
            "152    3.03          9.0         70.0    4800.0        30           37   6938  \n",
            "169    3.54          8.7         92.0    4200.0        29           34   8948  \n",
            "40     3.58          9.0        101.0    5800.0        24           28  12945  \n",
            "190    3.15          9.5        114.0    5400.0        23           28  12940  \n",
            "192    3.15          9.5        114.0    5400.0        24           28  15985  \n",
            "143    2.64          9.0         94.0    5200.0        25           31  10198  \n",
            "93     3.29          9.4         69.0    5200.0        31           37   7499  \n",
            "26     3.39          7.6        102.0    5500.0        24           30   8558  \n",
            "154    3.35         22.5         56.0    4500.0        34           36   7898  \n",
            "179    3.40          9.0         85.0    5250.0        27           34   7975  \n",
            "63     3.64         22.0         72.0    4200.0        31           39  18344  \n",
            "65     3.64         21.5        123.0    4350.0        22           25  28248  \n",
            "182    3.40          9.0         85.0    5250.0        27           34   8495  \n",
            "161    3.08          9.4        112.0    6600.0        26           29   9298  \n",
            "137    2.64          9.5         82.0    4800.0        32           37   7126  \n",
            "153    3.03          9.0         70.0    4800.0        30           37   7198  \n",
            "23     3.23          9.4         68.0    5500.0        31           38   6229  \n",
            "123    2.90          9.5        207.0    5900.0        17           25  32528  \n",
            "99     3.27          9.0        152.0    5200.0        17           22  14399  \n",
            "64     1\n",
            "197    0\n",
            "83     0\n",
            "135    0\n",
            "114    0\n",
            "      ..\n",
            "124    0\n",
            "21     0\n",
            "100    0\n",
            "5      0\n",
            "112    0\n",
            "Name: fuel_type, Length: 136, dtype: int64\n",
            "15     0\n",
            "106    0\n",
            "136    0\n",
            "85     0\n",
            "131    0\n",
            "6      0\n",
            "31     0\n",
            "145    0\n",
            "168    0\n",
            "74     0\n",
            "27     0\n",
            "170    1\n",
            "71     0\n",
            "17     0\n",
            "156    0\n",
            "175    0\n",
            "42     0\n",
            "2      0\n",
            "158    0\n",
            "90     0\n",
            "13     0\n",
            "144    0\n",
            "165    0\n",
            "178    1\n",
            "11     0\n",
            "108    0\n",
            "29     0\n",
            "150    0\n",
            "172    0\n",
            "109    1\n",
            "84     0\n",
            "110    0\n",
            "7      0\n",
            "87     1\n",
            "120    0\n",
            "133    0\n",
            "60     1\n",
            "76     0\n",
            "199    1\n",
            "148    0\n",
            "152    0\n",
            "169    0\n",
            "40     0\n",
            "190    0\n",
            "192    0\n",
            "143    0\n",
            "93     0\n",
            "26     0\n",
            "154    1\n",
            "179    0\n",
            "63     1\n",
            "65     1\n",
            "182    0\n",
            "161    0\n",
            "137    0\n",
            "153    0\n",
            "23     0\n",
            "123    0\n",
            "99     0\n",
            "Name: fuel_type, dtype: int64\n"
          ]
        }
      ],
      "source": [
        "\n",
        "from sklearn.model_selection import train_test_split\n",
        "\n",
        "\n",
        "X_train, X_test, y_train, y_test = train_test_split(X, y, test_size=0.3, random_state=746)\n",
        "print(X_train)\n",
        "print(X_test)\n",
        "print(y_train)\n",
        "print(y_test)\n"
      ]
    },
    {
      "cell_type": "code",
      "source": [
        "distribution=df.value_counts(y)\n",
        "distribution.plot(kind='bar', title='Class Distribution')\n",
        "print(distribution)"
      ],
      "metadata": {
        "colab": {
          "base_uri": "https://localhost:8080/",
          "height": 547
        },
        "id": "p5CrVCERoPlF",
        "outputId": "87748a3e-e907-4993-f640-44d4b6dc8908"
      },
      "id": "p5CrVCERoPlF",
      "execution_count": 95,
      "outputs": [
        {
          "output_type": "stream",
          "name": "stdout",
          "text": [
            "fuel_type\n",
            "0.0    175\n",
            "1.0     20\n",
            "dtype: int64\n"
          ]
        },
        {
          "output_type": "display_data",
          "data": {
            "text/plain": [
              "<Figure size 640x480 with 1 Axes>"
            ],
            "image/png": "[encoded data removed]"
          },
          "metadata": {}
        }
      ]
    },
    {
      "cell_type": "markdown",
      "source": [
        "Checking the each values count of target variable y and assigned it to distribution variable and Now plotting the value count using the barplot. Here 0's count is 175 and 1's count is 20. From the counts of 0's and 1's we can say that the target variable data is imbalanced where 0's count have high majority and 1's have low majority.\n"
      ],
      "metadata": {
        "id": "ycbRe2VjorH8"
      },
      "id": "ycbRe2VjorH8"
    },
    {
      "cell_type": "markdown",
      "source": [
        " Using the train_test_split function from the sklearn.model_selection module to split data into training and testing sets. This is a common step in machine learning to evaluate the performance of the model on unseen data.train_test_split(X, y, test_size=0.3, random_state=746): This function splits your data (X and y) into training and testing sets. The test_size=0.3 parameter specifies that 30% of the data will be used for testing, and the remaining 70% will be used for training. The random_state parameter is set for reproducibility.\n",
        "\n",
        "** Training Set** - Independent Variables (X_train):\n",
        "\n",
        "It contains 136 rows and 14 columns, representing different car features.\n",
        "Each row is a data point, and each column is a feature.\n",
        "**Testing Set - Independent Variables (X_test)**:\n",
        "\n",
        "It contains 59 rows and 14 columns, similar to the training set structure.\n",
        "Each row corresponds to a different data point, and each column represents a feature.\n",
        "**Training Set - Dependent Variable (y_train)**:\n",
        "\n",
        "It is a binary variable with 0s and 1s, representing the fuel type ('gas' or 'diesel') for the training set.\n",
        "**Testing Set - Dependent Variable (y_test):**\n",
        "\n",
        "Similar to y_train, it represents the fuel type for the testing set.\n",
        "The y_train and y_test values indicate whether each car in the corresponding set uses 'gas' (0) or 'diesel' (1) as fuel."
      ],
      "metadata": {
        "id": "_qLhVSXKhxga"
      },
      "id": "_qLhVSXKhxga"
    },
    {
      "cell_type": "markdown",
      "id": "4ad2fd64",
      "metadata": {
        "id": "4ad2fd64"
      },
      "source": [
        "# 3. Classification"
      ]
    },
    {
      "cell_type": "markdown",
      "id": "35ea935a",
      "metadata": {
        "id": "35ea935a"
      },
      "source": [
        "### 3.1 Use Logistic regression to classify your data. Print/report your confusion matrix, classification report and AUC"
      ]
    },
    {
      "cell_type": "code",
      "execution_count": 160,
      "id": "ab66e66a",
      "metadata": {
        "id": "ab66e66a",
        "colab": {
          "base_uri": "https://localhost:8080/"
        },
        "outputId": "885df63d-414c-417c-fb5e-0615505e05c9"
      },
      "outputs": [
        {
          "output_type": "stream",
          "name": "stdout",
          "text": [
            "Confusion Matrix:\n",
            " [[31  0]\n",
            " [ 0  8]]\n",
            "\n",
            "Classification Report:\n",
            "               precision    recall  f1-score   support\n",
            "\n",
            "           0       1.00      1.00      1.00        31\n",
            "           1       1.00      1.00      1.00         8\n",
            "\n",
            "    accuracy                           1.00        39\n",
            "   macro avg       1.00      1.00      1.00        39\n",
            "weighted avg       1.00      1.00      1.00        39\n",
            "\n",
            "\n",
            "AUC Score: 1.0\n",
            "Accuracy of LogisticRegression:  1.0\n",
            "Precision of LogisticRegression:  1.0\n",
            "Recall of LogisticRegression:  1.0\n",
            "F1_score of LogisticRegression:  1.0\n"
          ]
        }
      ],
      "source": [
        "# Import necessary libraries\n",
        "import numpy as np\n",
        "import pandas as pd\n",
        "from sklearn.model_selection import train_test_split\n",
        "from sklearn.linear_model import LogisticRegression\n",
        "from sklearn.metrics import confusion_matrix, classification_report, roc_auc_score, roc_curve\n",
        "\n",
        "LR=LogisticRegression()\n",
        "lr_result=LR.fit(X_train,y_train)\n",
        "y_pred_lr = LR.predict(X_test)\n",
        "lr_accuracy=accuracy_score(y_test, y_pred_lr)\n",
        "lr_precision=precision_score(y_test, y_pred_lr)\n",
        "lr_recall=recall_score(y_test, y_pred_lr)\n",
        "lr_f1_score=f1_score(y_test, y_pred_lr)\n",
        "\n",
        "# Split the data into training and testing sets\n",
        "X_train, X_test, y_train, y_test = train_test_split(X, y, test_size=0.2, random_state=50)\n",
        "\n",
        "# Initialize logistic regression model\n",
        "model = LogisticRegression()\n",
        "\n",
        "# Train the model\n",
        "model.fit(X_train, y_train)\n",
        "\n",
        "# Make predictions on the test set\n",
        "y_pred = model.predict(X_test)\n",
        "\n",
        "# Evaluate the model\n",
        "conf_matrix = confusion_matrix(y_test, y_pred)\n",
        "class_report = classification_report(y_test, y_pred)\n",
        "auc_score_1 = roc_auc_score(y_test, model.predict_proba(X_test)[:, 1])\n",
        "\n",
        "# Print the confusion matrix, classification report, and AUC score\n",
        "print(\"Confusion Matrix:\\n\", conf_matrix)\n",
        "print(\"\\nClassification Report:\\n\", class_report)\n",
        "print(\"\\nAUC Score:\", auc_score)\n",
        "print(\"Accuracy of LogisticRegression: \",lr_accuracy)\n",
        "print(\"Precision of LogisticRegression: \",lr_precision)\n",
        "print(\"Recall of LogisticRegression: \",lr_recall)\n",
        "print(\"F1_score of LogisticRegression: \",lr_f1_score)\n"
      ]
    },
    {
      "cell_type": "markdown",
      "source": [
        " This code initializes a logistic regression model, trains it on the training set, makes predictions on the test set, and prints the confusion matrix, classification report, and AUC score.\n",
        "\n",
        "**Classification Report:**\n",
        "\n",
        "**Precision:** The precision for both classes (0 and 1) is 1.00, indicating that all instances predicted as each class were indeed members of that class.\n",
        "**Recall (Sensitivity):** The recall for both classes is 1.00, suggesting that the model correctly identified all instances of each class.\n",
        "**F1-Score:** The F1-score for both classes is 1.00, which is the harmonic mean of precision and recall. It provides a balance between precision and recall.\n",
        "**Support:** Indicates the number of actual occurrences of the class in the specified dataset.\n",
        "**Accuracy:**\n",
        "The overall accuracy of the model is 1.00 (100%), meaning that all instances in the dataset were correctly classified.\n",
        "**Macro Average and Weighted Average:**\n",
        "Both macro and weighted averages for precision, recall, and F1-score are 1.00, indicating perfect performance. Macro average treats all classes equally, while weighted average considers the number of instances in each class.\n",
        "**AUC Score:**\n",
        "The Area Under the Receiver Operating Characteristic (ROC) Curve is 1.00. This score represents a perfect separation between the two classes, with the model having a flawless ability to distinguish between them."
      ],
      "metadata": {
        "id": "gbPEXPYYtOmJ"
      },
      "id": "gbPEXPYYtOmJ"
    },
    {
      "cell_type": "code",
      "source": [
        "fpr, tpr, thresholds = roc_curve(y_test, model.predict_proba(X_test)[:, 1])\n",
        "plt.figure(figsize=(8, 6))\n",
        "plt.plot(fpr, tpr, label='ROC curve (AUC = {:.4f})'.format(auc_score_1 ))\n",
        "plt.plot([0, 1], [0, 1], 'k--')  # Random guess line\n",
        "plt.xlabel('False Positive Rate')\n",
        "plt.ylabel('True Positive Rate')\n",
        "plt.title('ROC CURVE')\n",
        "plt.legend(loc='lower right')\n",
        "plt.show()"
      ],
      "metadata": {
        "colab": {
          "base_uri": "https://localhost:8080/",
          "height": 564
        },
        "id": "XQCpxKyQpamL",
        "outputId": "bf6637dd-3b1f-498e-b742-724ae1e42246"
      },
      "id": "XQCpxKyQpamL",
      "execution_count": 161,
      "outputs": [
        {
          "output_type": "display_data",
          "data": {
            "text/plain": [
              "<Figure size 800x600 with 1 Axes>"
            ],
            "image/png": "[encoded data removed]"
          },
          "metadata": {}
        }
      ]
    },
    {
      "cell_type": "markdown",
      "source": [
        "Representing the auc_roc_score in visualization form.The ROC curve is a graphical representation of the trade-off between true positive rate and false positive rate across different thresholds. The AUC-ROC score provides a summary measure of the classifier's performance. Here AUC=1.0000. Then there is a high chance that classifier will be able to distinguish between positive class and negative class."
      ],
      "metadata": {
        "id": "MT-Ebk4Jq-sz"
      },
      "id": "MT-Ebk4Jq-sz"
    },
    {
      "cell_type": "markdown",
      "id": "2d3360f1",
      "metadata": {
        "id": "2d3360f1"
      },
      "source": [
        "### 3.2 Use Naive Bayes to classify your data. Print/report your confusion matrix, classification report and AUC"
      ]
    },
    {
      "cell_type": "code",
      "execution_count": 164,
      "id": "131bcdbf",
      "metadata": {
        "id": "131bcdbf",
        "colab": {
          "base_uri": "https://localhost:8080/"
        },
        "outputId": "b63068bd-fb46-4e07-cba8-debfe0c6b8cd"
      },
      "outputs": [
        {
          "output_type": "stream",
          "name": "stdout",
          "text": [
            "Confusion Matrix:\n",
            " [[36  0]\n",
            " [ 0  3]]\n",
            "\n",
            "Classification Report:\n",
            "               precision    recall  f1-score   support\n",
            "\n",
            "           0       1.00      1.00      1.00        36\n",
            "           1       1.00      1.00      1.00         3\n",
            "\n",
            "    accuracy                           1.00        39\n",
            "   macro avg       1.00      1.00      1.00        39\n",
            "weighted avg       1.00      1.00      1.00        39\n",
            "\n",
            "\n",
            "AUC Score: 1.0\n",
            "Accuracy of Naive Bayes:  1.0\n",
            "Precision of Naive Bayes:  1.0\n",
            "Recall of Naive Bayes:  1.0\n",
            "F1_score of Naive Bayes:  1.0\n"
          ]
        }
      ],
      "source": [
        "# Import necessary libraries\n",
        "import numpy as np\n",
        "import pandas as pd\n",
        "from sklearn.model_selection import train_test_split\n",
        "from sklearn.naive_bayes import GaussianNB\n",
        "from sklearn.metrics import confusion_matrix, classification_report, roc_auc_score, roc_curve\n",
        "import matplotlib.pyplot as plt\n",
        "\n",
        "NB=GaussianNB()\n",
        "NB.fit(X_train,y_train)\n",
        "y_pred_nb = NB.predict(X_test)\n",
        "nb_accuracy=accuracy_score(y_test, y_pred_nb)\n",
        "nb_precision=precision_score(y_test, y_pred_nb)\n",
        "nb_recall=recall_score(y_test, y_pred_nb)\n",
        "nb_f1_score=f1_score(y_test, y_pred_nb)\n",
        "\n",
        "# Assuming you have a DataFrame 'df' with your data, and the target variable is 'target'\n",
        "# Replace 'target' with the actual name of your target variable\n",
        "\n",
        "# Split the data into training and testing sets\n",
        "X_train, X_test, y_train, y_test = train_test_split(X, y, test_size=0.2, random_state=42)\n",
        "\n",
        "# Initialize Naive Bayes model\n",
        "model = GaussianNB()\n",
        "\n",
        "# Train the model\n",
        "model.fit(X_train, y_train)\n",
        "\n",
        "# Make predictions on the test set\n",
        "y_pred = model.predict(X_test)\n",
        "\n",
        "# Evaluate the model\n",
        "conf_matrix = confusion_matrix(y_test, y_pred)\n",
        "class_report = classification_report(y_test, y_pred)\n",
        "auc_score_nb= roc_auc_score(y_test, model.predict_proba(X_test)[:, 1])\n",
        "\n",
        "# Print the confusion matrix, classification report, and AUC score\n",
        "print(\"Confusion Matrix:\\n\", conf_matrix)\n",
        "print(\"\\nClassification Report:\\n\", class_report)\n",
        "print(\"\\nAUC Score:\", auc_score)\n",
        "print(\"Accuracy of Naive Bayes: \",nb_accuracy)\n",
        "print(\"Precision of Naive Bayes: \",nb_precision)\n",
        "print(\"Recall of Naive Bayes: \",nb_recall)\n",
        "print(\"F1_score of Naive Bayes: \",nb_f1_score)\n"
      ]
    },
    {
      "cell_type": "markdown",
      "source": [
        "The dataset (X) is split into training and testing sets using 80% for training and 20% for testing. The random state is set for reproducibility.\n",
        "**Model Initialization and Training:**\n",
        "The Gaussian Naive Bayes model is initialized as model.\n",
        "The model is trained on the training set (X_train, y_train) using the fit method.\n",
        "**Making Predictions:**\n",
        "Predictions are made on the test set (X_test) using the predict method.\n",
        "Model Evaluation:\n",
        "\n",
        "**Confusion Matrix:**  The confusion matrix is calculated using confusion_matrix from scikit-learn.\n",
        "\n",
        "**AUC Score:** The AUC score is calculated using roc_auc_score by predicting probabilities (model.predict_proba).\n",
        "Secondly, we using the Naive Bayes machine learning model using gaussian method it was imported from the sklearn.model_selection. assigned these model to NB variable and then fitting the X_train, y_train to Naive Bayes model, so that model is build for X_train and y_train. Here predicted values of target variable is done by command y_pred_nb = NB.predict(X_test). Now measure the accuracy, prcession, recall,f1_score values using the y_test and y_pred_nb.\n",
        "Confusion Matrix:\n",
        "All 36 instances of class 0 were correctly classified.\n",
        "All 3 instances of class 1 were correctly classified.\n",
        "There are no false positives or false negatives.\n",
        "\n",
        "**Classification Report:**\n",
        "\n",
        "Precision, recall, and F1-score for both classes are 1.00, indicating perfect performance.\n",
        "The accuracy is 1.00, suggesting that all instances in the dataset were correctly classified.\n",
        "\n",
        "**AUC Score:**\n",
        "The AUC score is 1.00, indicating perfect discrimination between the two classes.\n"
      ],
      "metadata": {
        "id": "8NKahimdx8mq"
      },
      "id": "8NKahimdx8mq"
    },
    {
      "cell_type": "code",
      "source": [
        "fpr, tpr, thresholds = roc_curve(y_test, model.predict_proba(X_test)[:, 1])\n",
        "plt.figure(figsize=(8, 6))\n",
        "plt.plot(fpr, tpr, label='ROC curve (AUC = {:.4f})'.format(auc_score ))\n",
        "plt.plot([0, 1], [0, 1], 'k--')  # Random guess line\n",
        "plt.xlabel('False Positive Rate')\n",
        "plt.ylabel('True Positive Rate')\n",
        "plt.title('ROC CURVE')\n",
        "plt.legend(loc='lower right')\n",
        "plt.show()"
      ],
      "metadata": {
        "colab": {
          "base_uri": "https://localhost:8080/",
          "height": 564
        },
        "id": "4bT1aESKsoLd",
        "outputId": "36799a04-202b-428c-9521-436ca19eda0d"
      },
      "id": "4bT1aESKsoLd",
      "execution_count": 165,
      "outputs": [
        {
          "output_type": "display_data",
          "data": {
            "text/plain": [
              "<Figure size 800x600 with 1 Axes>"
            ],
            "image/png": "[encoded data removed]"
          },
          "metadata": {}
        }
      ]
    },
    {
      "cell_type": "markdown",
      "source": [
        "Representing the auc_roc_score in visualization form. The ROC curve is a graphical representation of the trade-off between true positive rate and false positive rate across different thresholds. The AUC-ROC score provides a summary measure of the classifier's performance. Here AUC=1.0 means that classifier is able to perfectly distinguish between all the positives and negative class points correctly."
      ],
      "metadata": {
        "id": "RFkSiLQbsmxF"
      },
      "id": "RFkSiLQbsmxF"
    },
    {
      "cell_type": "markdown",
      "id": "c495f2d4",
      "metadata": {
        "id": "c495f2d4"
      },
      "source": [
        "### 3.3 Use KNN to classify your data. First find the optimal k and than run you classification. Print/report your confusion matrix, classification report and AUC"
      ]
    },
    {
      "cell_type": "code",
      "source": [
        "#your code\n",
        "#Finding best K-Value\n",
        "error=[]\n",
        "from sklearn.neighbors import KNeighborsClassifier #algorithm\n",
        "import matplotlib.pyplot as plt #Data Visualisation\n",
        "#Calculate error for K_values between 1 and 20\n",
        "for i in range(1,20):\n",
        "    model=KNeighborsClassifier(n_neighbors=i)\n",
        "    model.fit(X_train, y_train)\n",
        "    pred_i= model.predict(X_test)\n",
        "    error.append(np.mean(pred_i!=y_test))\n",
        "plt.figure(figsize=(12,6))\n",
        "plt.plot(range(1,20),error,color='green',linestyle='dashed',marker='o',markerfacecolor='yellow',markersize=10)\n",
        "plt.title(\"Error Rate K Value\")\n",
        "plt.xlabel('K Value')\n",
        "plt.ylabel(\"mean Error\")"
      ],
      "metadata": {
        "colab": {
          "base_uri": "https://localhost:8080/",
          "height": 581
        },
        "id": "R-5Sm4WFugZP",
        "outputId": "b50f5e28-32d8-4186-fa84-a6912a81a459"
      },
      "id": "R-5Sm4WFugZP",
      "execution_count": 100,
      "outputs": [
        {
          "output_type": "execute_result",
          "data": {
            "text/plain": [
              "Text(0, 0.5, 'mean Error')"
            ]
          },
          "metadata": {},
          "execution_count": 100
        },
        {
          "output_type": "display_data",
          "data": {
            "text/plain": [
              "<Figure size 1200x600 with 1 Axes>"
            ],
            "image/png": "[encoded data removed]"
          },
          "metadata": {}
        }
      ]
    },
    {
      "cell_type": "markdown",
      "source": [
        "The above code used to find the best Kvalue for KNN model building. This plot can help you identify the optimal value of k by looking for the point where the error rate is the lowest. Typically, this is where the model achieves the best balance between bias and variance. Here we getting best Kvalue as 2-3.I have took it has 2."
      ],
      "metadata": {
        "id": "R0d2mbDtv7vk"
      },
      "id": "R0d2mbDtv7vk"
    },
    {
      "cell_type": "code",
      "source": [
        "knn=KNeighborsClassifier(n_neighbors=2)\n",
        "knn.fit(X_train,y_train)"
      ],
      "metadata": {
        "colab": {
          "base_uri": "https://localhost:8080/",
          "height": 73
        },
        "id": "nNuBcskZtscY",
        "outputId": "00aae661-597c-421e-fa84-e1e9c8e17838"
      },
      "id": "nNuBcskZtscY",
      "execution_count": 101,
      "outputs": [
        {
          "output_type": "execute_result",
          "data": {
            "text/plain": [
              "KNeighborsClassifier(n_neighbors=2)"
            ],
            "text/html": [
              "<style>#sk-container-id-7 {color: black;background-color: white;}#sk-container-id-7 pre{padding: 0;}#sk-container-id-7 div.sk-toggleable {background-color: white;}#sk-container-id-7 label.sk-toggleable__label {cursor: pointer;display: block;width: 100%;margin-bottom: 0;padding: 0.3em;box-sizing: border-box;text-align: center;}#sk-container-id-7 label.sk-toggleable__label-arrow:before {content: \"▸\";float: left;margin-right: 0.25em;color: #696969;}#sk-container-id-7 label.sk-toggleable__label-arrow:hover:before {color: black;}#sk-container-id-7 div.sk-estimator:hover label.sk-toggleable__label-arrow:before {color: black;}#sk-container-id-7 div.sk-toggleable__content {max-height: 0;max-width: 0;overflow: hidden;text-align: left;background-color: #f0f8ff;}#sk-container-id-7 div.sk-toggleable__content pre {margin: 0.2em;color: black;border-radius: 0.25em;background-color: #f0f8ff;}#sk-container-id-7 input.sk-toggleable__control:checked~div.sk-toggleable__content {max-height: 200px;max-width: 100%;overflow: auto;}#sk-container-id-7 input.sk-toggleable__control:checked~label.sk-toggleable__label-arrow:before {content: \"▾\";}#sk-container-id-7 div.sk-estimator input.sk-toggleable__control:checked~label.sk-toggleable__label {background-color: #d4ebff;}#sk-container-id-7 div.sk-label input.sk-toggleable__control:checked~label.sk-toggleable__label {background-color: #d4ebff;}#sk-container-id-7 input.sk-hidden--visually {border: 0;clip: rect(1px 1px 1px 1px);clip: rect(1px, 1px, 1px, 1px);height: 1px;margin: -1px;overflow: hidden;padding: 0;position: absolute;width: 1px;}#sk-container-id-7 div.sk-estimator {font-family: monospace;background-color: #f0f8ff;border: 1px dotted black;border-radius: 0.25em;box-sizing: border-box;margin-bottom: 0.5em;}#sk-container-id-7 div.sk-estimator:hover {background-color: #d4ebff;}#sk-container-id-7 div.sk-parallel-item::after {content: \"\";width: 100%;border-bottom: 1px solid gray;flex-grow: 1;}#sk-container-id-7 div.sk-label:hover label.sk-toggleable__label {background-color: #d4ebff;}#sk-container-id-7 div.sk-serial::before {content: \"\";position: absolute;border-left: 1px solid gray;box-sizing: border-box;top: 0;bottom: 0;left: 50%;z-index: 0;}#sk-container-id-7 div.sk-serial {display: flex;flex-direction: column;align-items: center;background-color: white;padding-right: 0.2em;padding-left: 0.2em;position: relative;}#sk-container-id-7 div.sk-item {position: relative;z-index: 1;}#sk-container-id-7 div.sk-parallel {display: flex;align-items: stretch;justify-content: center;background-color: white;position: relative;}#sk-container-id-7 div.sk-item::before, #sk-container-id-7 div.sk-parallel-item::before {content: \"\";position: absolute;border-left: 1px solid gray;box-sizing: border-box;top: 0;bottom: 0;left: 50%;z-index: -1;}#sk-container-id-7 div.sk-parallel-item {display: flex;flex-direction: column;z-index: 1;position: relative;background-color: white;}#sk-container-id-7 div.sk-parallel-item:first-child::after {align-self: flex-end;width: 50%;}#sk-container-id-7 div.sk-parallel-item:last-child::after {align-self: flex-start;width: 50%;}#sk-container-id-7 div.sk-parallel-item:only-child::after {width: 0;}#sk-container-id-7 div.sk-dashed-wrapped {border: 1px dashed gray;margin: 0 0.4em 0.5em 0.4em;box-sizing: border-box;padding-bottom: 0.4em;background-color: white;}#sk-container-id-7 div.sk-label label {font-family: monospace;font-weight: bold;display: inline-block;line-height: 1.2em;}#sk-container-id-7 div.sk-label-container {text-align: center;}#sk-container-id-7 div.sk-container {/* jupyter's `normalize.less` sets `[hidden] { display: none; }` but bootstrap.min.css set `[hidden] { display: none !important; }` so we also need the `!important` here to be able to override the default hidden behavior on the sphinx rendered scikit-learn.org. See: https://github.com/scikit-learn/scikit-learn/issues/21755 */display: inline-block !important;position: relative;}#sk-container-id-7 div.sk-text-repr-fallback {display: none;}</style><div id=\"sk-container-id-7\" class=\"sk-top-container\"><div class=\"sk-text-repr-fallback\"><pre>KNeighborsClassifier(n_neighbors=2)</pre><b>In a Jupyter environment, please rerun this cell to show the HTML representation or trust the notebook. <br />On GitHub, the HTML representation is unable to render, please try loading this page with nbviewer.org.</b></div><div class=\"sk-container\" hidden><div class=\"sk-item\"><div class=\"sk-estimator sk-toggleable\"><input class=\"sk-toggleable__control sk-hidden--visually\" id=\"sk-estimator-id-7\" type=\"checkbox\" checked><label for=\"sk-estimator-id-7\" class=\"sk-toggleable__label sk-toggleable__label-arrow\">KNeighborsClassifier</label><div class=\"sk-toggleable__content\"><pre>KNeighborsClassifier(n_neighbors=2)</pre></div></div></div></div></div>"
            ]
          },
          "metadata": {},
          "execution_count": 101
        }
      ]
    },
    {
      "cell_type": "code",
      "source": [
        "y_pred_knn = knn.predict(X_test)\n",
        "knn_accuracy=accuracy_score(y_test, y_pred_knn)\n",
        "knn_precision=precision_score(y_test, y_pred_knn)\n",
        "knn_recall=recall_score(y_test, y_pred_knn)\n",
        "knn_f1_score=f1_score(y_test, y_pred_knn)\n",
        "\n"
      ],
      "metadata": {
        "id": "awq_MXq-tWC6"
      },
      "id": "awq_MXq-tWC6",
      "execution_count": 102,
      "outputs": []
    },
    {
      "cell_type": "code",
      "source": [
        "print(\"Accuracy of KNN: \",knn_accuracy)\n",
        "print(\"Precision of KNN: \",knn_precision)\n",
        "print(\"Recall of KNN: \",knn_recall)\n",
        "print(\"F1_score of KNN: \",knn_f1_score)"
      ],
      "metadata": {
        "colab": {
          "base_uri": "https://localhost:8080/"
        },
        "id": "cfQ2aH06vp7M",
        "outputId": "3f2e1112-3b07-4175-e5e8-3f1845a0a6f2"
      },
      "id": "cfQ2aH06vp7M",
      "execution_count": 103,
      "outputs": [
        {
          "output_type": "stream",
          "name": "stdout",
          "text": [
            "Accuracy of KNN:  0.9487179487179487\n",
            "Precision of KNN:  1.0\n",
            "Recall of KNN:  0.3333333333333333\n",
            "F1_score of KNN:  0.5\n"
          ]
        }
      ]
    },
    {
      "cell_type": "markdown",
      "source": [
        "print the accuracy, prcession, recall,f1_score values for K Nearest Neighbour model."
      ],
      "metadata": {
        "id": "7ovcOLsyxNWS"
      },
      "id": "7ovcOLsyxNWS"
    },
    {
      "cell_type": "code",
      "source": [
        "# Split the data into training and testing sets\n",
        "X_train, X_test, y_train, y_test = train_test_split(X, y, test_size=0.2, random_state=42)\n",
        "\n",
        "# Find the optimal k using cross-validation\n",
        "cv_scores = []\n",
        "k_values = list(range(1, 21))  # You can adjust the range based on your needs\n",
        "\n",
        "for k in k_values:\n",
        "    knn = KNeighborsClassifier(n_neighbors=k)\n",
        "    scores = cross_val_score(knn, X_train, y_train, cv=5, scoring='accuracy')\n",
        "    cv_scores.append(scores.mean())\n",
        "\n",
        "# Find the optimal k with the highest cross-validation score\n",
        "optimal_k = k_values[np.argmax(cv_scores)]\n",
        "print(f'Optimal k: {optimal_k}')\n",
        "# Train the KNN model with optimal k\n",
        "model = KNeighborsClassifier(n_neighbors=optimal_k)\n",
        "model.fit(X_train, y_train)\n",
        "\n",
        "# Make predictions on the test set\n",
        "y_pred = model.predict(X_test)\n",
        "\n",
        "# Evaluate the model\n",
        "conf_matrix = confusion_matrix(y_test, y_pred)\n",
        "class_report = classification_report(y_test, y_pred)\n",
        "auc_score_knn= roc_auc_score(y_test, model.predict_proba(X_test)[:, 1])\n",
        "\n",
        "# Print the confusion matrix, classification report, and AUC score\n",
        "print(\"Confusion Matrix:\\n\", conf_matrix)\n",
        "print(\"\\nClassification Report:\\n\", class_report)\n",
        "print(\"\\nAUC Score:\", auc_score)"
      ],
      "metadata": {
        "colab": {
          "base_uri": "https://localhost:8080/"
        },
        "id": "e0vck4TrxJRK",
        "outputId": "03e21071-50c5-407e-ad71-5bb35a427dc7"
      },
      "id": "e0vck4TrxJRK",
      "execution_count": 104,
      "outputs": [
        {
          "output_type": "stream",
          "name": "stdout",
          "text": [
            "Optimal k: 2\n",
            "Confusion Matrix:\n",
            " [[36  0]\n",
            " [ 2  1]]\n",
            "\n",
            "Classification Report:\n",
            "               precision    recall  f1-score   support\n",
            "\n",
            "           0       0.95      1.00      0.97        36\n",
            "           1       1.00      0.33      0.50         3\n",
            "\n",
            "    accuracy                           0.95        39\n",
            "   macro avg       0.97      0.67      0.74        39\n",
            "weighted avg       0.95      0.95      0.94        39\n",
            "\n",
            "\n",
            "AUC Score: 1.0\n"
          ]
        }
      ]
    },
    {
      "cell_type": "markdown",
      "source": [
        "Data Splitting:\n",
        "\n",
        "The dataset (X) is split into training and testing sets using 80% for training and 20% for testing. The random state is set for reproducibility.\n",
        "Finding Optimal k with Cross-Validation:\n",
        "\n",
        "A loop iterates through a range of k values (from 1 to 20 in this case).\n",
        "For each k, a KNN model is created (KNeighborsClassifier(n_neighbors=k)) and cross-validation scores are calculated using cross_val_score with 5 folds and accuracy scoring.\n",
        "The mean of the cross-validation scores is stored in the cv_scores list.\n",
        "Selecting Optimal k:\n",
        "\n",
        "The optimal k is determined as the value that corresponds to the highest mean cross-validation score.\n",
        "Training the KNN Model:\n",
        "\n",
        "A new KNN model is instantiated with the optimal k.\n",
        "The model is trained on the training set (X_train, y_train) using the fit method.\n",
        "Making Predictions:\n",
        "\n",
        "Predictions are made on the test set (X_test) using the predict method.\n",
        "Model Evaluation:\n",
        "\n",
        "Confusion Matrix: The confusion matrix is calculated using confusion_matrix from scikit-learn.\n",
        "Classification Report: The classification report is generated using classification_report.\n",
        "AUC Score: The AUC score is calculated using roc_auc_score by predicting probabilities (model.predict_proba).\n",
        "The model shows high precision and recall for class 0, suggesting it is effective at identifying instances of class 0. However, the recall for class 1 is relatively low, indicating that the model struggles to identify instances of class 1.\n",
        "The AUC score of 0.944 suggests good overall discrimination performance, though specific class imbalances may need attention.means there is high chance that the classifier will be able to distinguish the positive class values from the negative class values.\n",
        "\n",
        "\n"
      ],
      "metadata": {
        "id": "OC8d0kXrBg_j"
      },
      "id": "OC8d0kXrBg_j"
    },
    {
      "cell_type": "code",
      "source": [
        "fpr_knn, tpr_knn, thresholds_knn = roc_curve(y_test,  model.predict_proba(X_test)[:, 1])\n",
        "plt.figure(figsize=(8, 6))\n",
        "plt.plot(fpr_knn, tpr_knn, label='ROC curve (AUC = {:.6f})'.format(auc_score))\n",
        "plt.plot([0, 1], [0, 1], 'k--')  # Random guess line\n",
        "plt.xlabel('False Positive Rate')\n",
        "plt.ylabel('True Positive Rate')\n",
        "plt.title('ROC CURVE')\n",
        "plt.legend(loc='lower right')\n",
        "plt.show()"
      ],
      "metadata": {
        "colab": {
          "base_uri": "https://localhost:8080/",
          "height": 564
        },
        "id": "xkKpyrRhs7Td",
        "outputId": "6d436429-46aa-41e9-bb3f-429c889819f9"
      },
      "id": "xkKpyrRhs7Td",
      "execution_count": 149,
      "outputs": [
        {
          "output_type": "display_data",
          "data": {
            "text/plain": [
              "<Figure size 800x600 with 1 Axes>"
            ],
            "image/png": "[encoded data removed]"
          },
          "metadata": {}
        }
      ]
    },
    {
      "cell_type": "markdown",
      "id": "e3371eae",
      "metadata": {
        "id": "e3371eae"
      },
      "source": [
        "### 3.4 Choose one: SVM or Random Forest to classify your data. Print/report your confusion matrix, classification report and AUC"
      ]
    },
    {
      "cell_type": "code",
      "source": [
        "#your code\n",
        "SVM = SVC(probability=True)\n",
        "SVM.fit(X_train,y_train)\n",
        "y_pred_svm = SVM.predict(X_test)\n",
        "svm_accuracy=accuracy_score(y_test, y_pred_svm)\n",
        "svm_precision=precision_score(y_test, y_pred_svm)\n",
        "svm_recall=recall_score(y_test, y_pred_svm)\n",
        "svm_f1_score=f1_score(y_test, y_pred_svm)\n",
        "print(\"Accuracy of SVM: \",svm_accuracy)\n",
        "print(\"Precision of SVM: \",svm_precision)\n",
        "print(\"Recall of SVM: \",svm_recall)\n",
        "print(\"F1_score of SVM: \",svm_f1_score)"
      ],
      "metadata": {
        "colab": {
          "base_uri": "https://localhost:8080/"
        },
        "id": "G43XsllQ0a9w",
        "outputId": "1ec10f0c-5ad8-48e1-f02f-4331c55e2809"
      },
      "id": "G43XsllQ0a9w",
      "execution_count": 150,
      "outputs": [
        {
          "output_type": "stream",
          "name": "stdout",
          "text": [
            "Accuracy of SVM:  0.7948717948717948\n",
            "Precision of SVM:  0.0\n",
            "Recall of SVM:  0.0\n",
            "F1_score of SVM:  0.0\n"
          ]
        }
      ]
    },
    {
      "cell_type": "code",
      "execution_count": 151,
      "id": "e7b82419",
      "metadata": {
        "id": "e7b82419",
        "colab": {
          "base_uri": "https://localhost:8080/"
        },
        "outputId": "a3b7addd-3acc-4787-c003-16ce7fb538d3"
      },
      "outputs": [
        {
          "output_type": "stream",
          "name": "stdout",
          "text": [
            "Confusion Matrix:\n",
            " [[36  0]\n",
            " [ 0  3]]\n",
            "\n",
            "Classification Report:\n",
            "               precision    recall  f1-score   support\n",
            "\n",
            "           0       1.00      1.00      1.00        36\n",
            "           1       1.00      1.00      1.00         3\n",
            "\n",
            "    accuracy                           1.00        39\n",
            "   macro avg       1.00      1.00      1.00        39\n",
            "weighted avg       1.00      1.00      1.00        39\n",
            "\n",
            "\n",
            "AUC Score: 1.0\n"
          ]
        }
      ],
      "source": [
        "# Import necessary libraries\n",
        "import numpy as np\n",
        "import pandas as pd\n",
        "from sklearn.model_selection import train_test_split\n",
        "from sklearn.ensemble import RandomForestClassifier\n",
        "from sklearn.metrics import confusion_matrix, classification_report, roc_auc_score, roc_curve\n",
        "import matplotlib.pyplot as plt\n",
        "\n",
        "# Split the data into training and testing sets\n",
        "X_train, X_test, y_train, y_test = train_test_split(X, y, test_size=0.2, random_state=42)\n",
        "\n",
        "# Initialize Random Forest model\n",
        "model = RandomForestClassifier(n_estimators=100, random_state=42)  # You can adjust hyperparameters as needed\n",
        "\n",
        "# Train the model\n",
        "model.fit(X_train, y_train)\n",
        "\n",
        "# Make predictions on the test set\n",
        "y_pred = model.predict(X_test)\n",
        "\n",
        "# Evaluate the model\n",
        "conf_matrix = confusion_matrix(y_test, y_pred)\n",
        "class_report = classification_report(y_test, y_pred)\n",
        "auc_score = roc_auc_score(y_test, model.predict_proba(X_test)[:, 1])\n",
        "\n",
        "# Print the confusion matrix, classification report, and AUC score\n",
        "print(\"Confusion Matrix:\\n\", conf_matrix)\n",
        "print(\"\\nClassification Report:\\n\", class_report)\n",
        "print(\"\\nAUC Score:\", auc_score)\n"
      ]
    },
    {
      "cell_type": "code",
      "source": [
        "fpr_svm, tpr_svm, thresholds_svm = roc_curve(y_test, SVM.predict_proba(X_test)[:, 1])\n",
        "plt.figure(figsize=(8, 6))\n",
        "plt.plot(fpr_svm, tpr_svm, label='ROC curve (AUC = {:.2f})'.format(auc_score))\n",
        "plt.plot([0, 1], [0, 1], 'k--')  # Random guess line\n",
        "plt.xlabel('False Positive Rate')\n",
        "plt.ylabel('True Positive Rate')\n",
        "plt.title('ROC CURVE')\n",
        "plt.legend(loc='lower right')\n",
        "plt.show()"
      ],
      "metadata": {
        "colab": {
          "base_uri": "https://localhost:8080/",
          "height": 564
        },
        "id": "Ch0ZSCkW1qSv",
        "outputId": "073019de-e364-4ee0-82bc-b2a741b4f213"
      },
      "id": "Ch0ZSCkW1qSv",
      "execution_count": 152,
      "outputs": [
        {
          "output_type": "display_data",
          "data": {
            "text/plain": [
              "<Figure size 800x600 with 1 Axes>"
            ],
            "image/png": "[encoded data removed]"
          },
          "metadata": {}
        }
      ]
    },
    {
      "cell_type": "markdown",
      "source": [
        "Data Splitting:\n",
        "\n",
        "The dataset (X) is split into training and testing sets using 80% for training and 20% for testing. The random state is set for reproducibility.\n",
        "Initializing Random Forest Model:\n",
        "\n",
        "A Random Forest model is initialized with 100 decision trees (n_estimators=100) and a random state of 42. You can adjust hyperparameters based on your needs.\n",
        "Training the Model:\n",
        "\n",
        "The Random Forest model is trained on the training set (X_train, y_train) using the fit method.\n",
        "Making Predictions:\n",
        "\n",
        "Predictions are made on the test set (X_test) using the predict method.\n",
        "Model Evaluation:\n",
        "\n",
        "Confusion Matrix: The confusion matrix is calculated using confusion_matrix from scikit-learn.\n",
        "Classification Report: The classification report is generated using classification_report.\n",
        "AUC Score: The AUC score is calculated using roc_auc_score by predicting probabilities (model.predict_proba).\n",
        "Classification Report:\n",
        "\n",
        "Precision:\n",
        "Precision for both classes (0 and 1) is 1.00, indicating that all instances predicted as each class were indeed members of that class.\n",
        "Recall (Sensitivity):\n",
        "Recall for both classes is 1.00, suggesting that the model correctly identified all instances of each class.\n",
        "F1-Score:\n",
        "The F1-score for both classes is 1.00, which is the harmonic mean of precision and recall. It provides a balance between precision and recall.\n",
        "Accuracy:\n",
        "The overall accuracy of the model is 1.00 (100%), meaning that all instances in the dataset were correctly classified."
      ],
      "metadata": {
        "id": "43-cHHlSDCUv"
      },
      "id": "43-cHHlSDCUv"
    },
    {
      "cell_type": "code",
      "source": [
        "rf=RandomForestClassifier()\n",
        "rf.fit(X_train,y_train)\n",
        "y_pred_rf=rf.predict(X_test)\n",
        "rf_accuracy=accuracy_score(y_test, y_pred_rf)\n",
        "rf_precision=precision_score(y_test, y_pred_rf)\n",
        "rf_recall=recall_score(y_test, y_pred_rf)\n",
        "\n",
        "rf_f1_score=f1_score(y_test, y_pred_rf)\n",
        "y_probs_rf = rf.predict_proba(X_test)[:, 1]\n",
        "auc_score_rf = roc_auc_score(y_test, y_probs_rf)\n",
        "print(\"AUC-ROC Score:\", auc_roc_rf)\n",
        "\n",
        "fpr_rf, tpr_rf, thresholds_rf = roc_curve(y_test, rf.predict_proba(X_test)[:, 1])\n",
        "plt.figure(figsize=(8, 6))\n",
        "plt.plot(fpr_rf, tpr_rf, label='ROC curve (AUC = {:.2f})'.format(auc_roc_rf))\n",
        "plt.plot([0, 1], [0, 1], 'k--')  # Random guess line\n",
        "plt.xlabel('False Positive Rate')\n",
        "plt.ylabel('True Positive Rate')\n",
        "plt.title('ROC CURVE')\n",
        "plt.legend(loc='lower right')\n",
        "plt.show()"
      ],
      "metadata": {
        "colab": {
          "base_uri": "https://localhost:8080/",
          "height": 581
        },
        "id": "cTZh6Q-X3Urt",
        "outputId": "bdc3e5f1-344a-4561-ce6a-88527db53d12"
      },
      "id": "cTZh6Q-X3Urt",
      "execution_count": 153,
      "outputs": [
        {
          "output_type": "stream",
          "name": "stdout",
          "text": [
            "AUC-ROC Score: 1.0\n"
          ]
        },
        {
          "output_type": "display_data",
          "data": {
            "text/plain": [
              "<Figure size 800x600 with 1 Axes>"
            ],
            "image/png": "[encoded data removed]"
          },
          "metadata": {}
        }
      ]
    },
    {
      "cell_type": "markdown",
      "source": [
        "The above code used to find area under curve_roc score. In practical getting AUC_ROC score 1 leads to Overfitting to the training data is a concern when the model achieves perfect scores, especially if the dataset is small or if the model is overly complex."
      ],
      "metadata": {
        "id": "Y8AYFlGS3s9P"
      },
      "id": "Y8AYFlGS3s9P"
    },
    {
      "cell_type": "markdown",
      "id": "66c75879",
      "metadata": {
        "id": "66c75879"
      },
      "source": [
        "### 3.5 Compare your results and comment on your findings. Which one(s) did the best job? What could have been the problem with the ones that did not work? etc."
      ]
    },
    {
      "cell_type": "code",
      "source": [
        "#your answer\n",
        "models = ['Logistic Regression', 'Naive Bayes', 'K-Nearest Neighbors', 'Support Vector Machine','Random Forest']\n",
        "accuracies = [auc_score_1, auc_score_nb, auc_score_knn, auc_score,auc_score_rf]\n",
        "plt.figure(figsize=(10, 6))\n",
        "plt.bar(models, accuracies, color=['pink', 'black', 'skyblue', 'violet','orange'])\n",
        "plt.ylim(0, 1)\n",
        "plt.title('Comparison of Classification Algorithm AUC_ROC Values')\n",
        "plt.xlabel('Classification Model')\n",
        "plt.ylabel('Accuracy')\n",
        "plt.show()\n",
        "data_AUC = pd.DataFrame({'Model': models, 'AUC-ROC Score': accuracies})\n",
        "print(data_AUC)"
      ],
      "metadata": {
        "id": "P-qyCPUgDE-v",
        "colab": {
          "base_uri": "https://localhost:8080/",
          "height": 665
        },
        "outputId": "426a5cb6-dceb-4bb3-8a60-f53800253fd7"
      },
      "id": "P-qyCPUgDE-v",
      "execution_count": 155,
      "outputs": [
        {
          "output_type": "display_data",
          "data": {
            "text/plain": [
              "<Figure size 1000x600 with 1 Axes>"
            ],
            "image/png": "[encoded data removed]"
          },
          "metadata": {}
        },
        {
          "output_type": "stream",
          "name": "stdout",
          "text": [
            "                    Model  AUC-ROC Score\n",
            "0     Logistic Regression       1.000000\n",
            "1             Naive Bayes       1.000000\n",
            "2     K-Nearest Neighbors       0.944444\n",
            "3  Support Vector Machine       1.000000\n",
            "4           Random Forest       1.000000\n"
          ]
        }
      ]
    },
    {
      "cell_type": "markdown",
      "source": [
        "The above code will generate a bar plot comparing the AUC-ROC scores of different classification models and display a DataFrame with the corresponding AUC-ROC scores.From the AUC_ROC scores Naive Bayes, achieving perfect AUC-ROC scores. The Logistic Regression and SVM models also demonstrated high discrimination ability. The K-Nearest Neighbors model achieved a moderate AUC-ROC score, indicating relatively weaker discrimination compared to the other models."
      ],
      "metadata": {
        "id": "oPzkHef13Ba2"
      },
      "id": "oPzkHef13Ba2"
    },
    {
      "cell_type": "code",
      "source": [
        "models = ['Logistic Regression', 'Naive Bayes', 'K-Nearest Neighbors', 'Support Vector Machine', 'Random Forest']\n",
        "accuracies = [lr_accuracy, nb_accuracy, knn_accuracy, svm_accuracy, rf_accuracy]\n",
        "plt.figure(figsize=(10, 6))\n",
        "plt.bar(models, accuracies, color=['pink', 'black', 'skyblue', 'violet','orange'])\n",
        "plt.ylim(0, 1)\n",
        "plt.title('Comparison of Classification Algorithm Accuracies')\n",
        "plt.xlabel('Classification Model')\n",
        "plt.ylabel('Accuracy')\n",
        "plt.show()\n",
        "data_accu = pd.DataFrame({'Model': models, 'Accuracies Score': accuracies})\n",
        "print(data_accu)"
      ],
      "metadata": {
        "colab": {
          "base_uri": "https://localhost:8080/",
          "height": 665
        },
        "id": "GKy0CaJq6U8_",
        "outputId": "44370d61-5693-4439-d217-77fc2ef66bd2"
      },
      "id": "GKy0CaJq6U8_",
      "execution_count": 167,
      "outputs": [
        {
          "output_type": "display_data",
          "data": {
            "text/plain": [
              "<Figure size 1000x600 with 1 Axes>"
            ],
            "image/png": "[encoded data removed]"
          },
          "metadata": {}
        },
        {
          "output_type": "stream",
          "name": "stdout",
          "text": [
            "                    Model  Accuracies Score\n",
            "0     Logistic Regression          1.000000\n",
            "1             Naive Bayes          1.000000\n",
            "2     K-Nearest Neighbors          0.948718\n",
            "3  Support Vector Machine          0.794872\n",
            "4           Random Forest          1.000000\n"
          ]
        }
      ]
    },
    {
      "cell_type": "markdown",
      "source": [
        "The above code will generate a bar plot comparing the Auccurie scores of different classification models and display a DataFrame with the corresponding Auccurie scores. Naive Bayes and Random Forest models performed exceptionally well, achieving perfect accuracy scores. The Logistic Regression model also demonstrated high accuracy. The K-Nearest Neighbors and SVM models achieved relatively lower accuracy scores but still demonstrated good prediction ability.\n"
      ],
      "metadata": {
        "id": "xhq7vTzT8F5v"
      },
      "id": "xhq7vTzT8F5v"
    },
    {
      "cell_type": "code",
      "source": [
        "models = ['Logistic Regression', 'Naive Bayes', 'K-Nearest Neighbors', 'Support Vector Machine', 'Random Forest']\n",
        "accuracies = [lr_precision, nb_precision, knn_precision, svm_precision, rf_precision]\n",
        "plt.figure(figsize=(10, 6))\n",
        "plt.bar(models, accuracies, color=['blue', 'green', 'orange', 'red', 'purple'])\n",
        "plt.ylim(0, 1)\n",
        "plt.title('Comparison of Classification Algorithm Precision Values')\n",
        "plt.xlabel('Classification Model')\n",
        "plt.ylabel('Precision')\n",
        "plt.show()\n",
        "data_precision = pd.DataFrame({'Model': models, 'Precision': accuracies})\n",
        "print(data_precision)"
      ],
      "metadata": {
        "colab": {
          "base_uri": "https://localhost:8080/",
          "height": 665
        },
        "id": "0HaqXlqf8Sdg",
        "outputId": "c9d56524-7f05-44b0-c753-53c8ccbb3866"
      },
      "id": "0HaqXlqf8Sdg",
      "execution_count": 169,
      "outputs": [
        {
          "output_type": "display_data",
          "data": {
            "text/plain": [
              "<Figure size 1000x600 with 1 Axes>"
            ],
            "image/png": "[encoded data removed]"
          },
          "metadata": {}
        },
        {
          "output_type": "stream",
          "name": "stdout",
          "text": [
            "                    Model  Precision\n",
            "0     Logistic Regression        1.0\n",
            "1             Naive Bayes        1.0\n",
            "2     K-Nearest Neighbors        1.0\n",
            "3  Support Vector Machine        0.0\n",
            "4           Random Forest        1.0\n"
          ]
        }
      ]
    },
    {
      "cell_type": "code",
      "source": [
        "models = ['Logistic Regression', 'Naive Bayes', 'K-Nearest Neighbors', 'Support Vector Machine', 'Random Forest']\n",
        "accuracies = [lr_recall, nb_recall, knn_recall, svm_recall, rf_recall]\n",
        "plt.figure(figsize=(10, 6))\n",
        "plt.bar(models, accuracies, color=['blue', 'green', 'orange', 'red', 'purple'])\n",
        "plt.ylim(0, 1)\n",
        "plt.title('Comparison of Classification Algorithm Recall Scores')\n",
        "plt.xlabel('Classification Model')\n",
        "plt.ylabel('Accuracy')\n",
        "plt.show()\n",
        "data_recall = pd.DataFrame({'Model': models, 'Recall Score': accuracies})\n",
        "print(data_recall)"
      ],
      "metadata": {
        "colab": {
          "base_uri": "https://localhost:8080/",
          "height": 665
        },
        "id": "eeABl0wx8k1z",
        "outputId": "f72302e3-ae0a-4c56-a231-2e7bb44efca3"
      },
      "id": "eeABl0wx8k1z",
      "execution_count": 170,
      "outputs": [
        {
          "output_type": "display_data",
          "data": {
            "text/plain": [
              "<Figure size 1000x600 with 1 Axes>"
            ],
            "image/png": "[encoded data removed]"
          },
          "metadata": {}
        },
        {
          "output_type": "stream",
          "name": "stdout",
          "text": [
            "                    Model  Recall Score\n",
            "0     Logistic Regression      1.000000\n",
            "1             Naive Bayes      1.000000\n",
            "2     K-Nearest Neighbors      0.333333\n",
            "3  Support Vector Machine      0.000000\n",
            "4           Random Forest      1.000000\n"
          ]
        }
      ]
    },
    {
      "cell_type": "code",
      "source": [
        "models = ['Logistic Regression', 'Naive Bayes', 'K-Nearest Neighbors', 'Support Vector Machine', 'Random Forest']\n",
        "accuracies = [lr_f1_score, nb_f1_score, knn_f1_score, svm_f1_score, rf_f1_score]\n",
        "plt.figure(figsize=(10, 6))\n",
        "plt.bar(models, accuracies, color=['blue', 'green', 'orange', 'red', 'purple'])\n",
        "plt.ylim(0, 1)\n",
        "plt.title('Comparison of Classification Algorithm F1 Scores')\n",
        "plt.xlabel('Classification Model')\n",
        "plt.ylabel('Accuracy')\n",
        "plt.show()\n",
        "data_f1 = pd.DataFrame({'Model': models, 'F1 Score': accuracies})\n",
        "print(data_f1)"
      ],
      "metadata": {
        "colab": {
          "base_uri": "https://localhost:8080/",
          "height": 665
        },
        "id": "0bbAJQfG81Vj",
        "outputId": "44f8855d-8a6d-420a-cf59-e782ce5a2dea"
      },
      "id": "0bbAJQfG81Vj",
      "execution_count": 171,
      "outputs": [
        {
          "output_type": "display_data",
          "data": {
            "text/plain": [
              "<Figure size 1000x600 with 1 Axes>"
            ],
            "image/png": "[encoded data removed]"
          },
          "metadata": {}
        },
        {
          "output_type": "stream",
          "name": "stdout",
          "text": [
            "                    Model  F1 Score\n",
            "0     Logistic Regression       1.0\n",
            "1             Naive Bayes       1.0\n",
            "2     K-Nearest Neighbors       0.5\n",
            "3  Support Vector Machine       0.0\n",
            "4           Random Forest       1.0\n"
          ]
        }
      ]
    },
    {
      "cell_type": "markdown",
      "source": [
        "1. **Logistic Regression**:\n",
        "Performance:\n",
        "Achieved perfect precision, recall, and AUC score, indicating excellent performance.\n",
        "\n",
        "Logistic Regression is a well-established method and tends to perform well when the relationship between features and the target variable is approximately linear.\n",
        "2. **Naive Bayes**:\n",
        "Performance:\n",
        "Achieved perfect precision, recall, and AUC score, similar to Logistic Regression.\n",
        "Comments:\n",
        "Naive Bayes is known for its simplicity and efficiency, especially in cases where features are assumed to be conditionally independent given the class.\n",
        "3. **KNN (with Optimal k=**2):\n",
        "Performance:\n",
        "Slightly lower AUC score compared to Logistic Regression and Naive Bayes.\n",
        "Some imbalance in precision and recall for the positive class.\n",
        "Comments:\n",
        "The choice of k (number of neighbors) can impact the performance of KNN. A lower k might lead to overfitting.\n",
        "4. **Random Forest:**\n",
        "Performance:\n",
        "Achieved perfect precision, recall, and AUC score, similar to Logistic Regression and Naive Bayes.\n",
        "Comments:\n",
        "Random Forest is an ensemble method that combines multiple decision trees, providing robustness and often high performance.\n",
        "Overall Analysis:\n",
        "High Accuracy:\n",
        "the above code will generate a bar plot comparing the Recall scores of different classification models and display a DataFrame with the corresponding Recall scores.Recall measures the ability of a model to capture all positive instances. Models with higher recall scores are better at identifying positive instances, while lower recall scores indicate that some positive instances were missed. The logistic regression, Naive Bayes, and Random Forest models performed well in capturing positive instances, while the K-Nearest Neighbors model had a lower recall, and the SVM model did not capture any positive instances.\n",
        "\n",
        "All classifiers achieved very high accuracy on the dataset, indicating that they were able to correctly classify the majority of instances.\n",
        "Perfect Metrics:\n",
        "\n",
        "Logistic Regression, Naive Bayes, and Random Forest achieved perfect precision, recall, and AUC score, suggesting that these models performed exceptionally well on the given data.\n",
        "Potential Considerations:\n",
        "\n",
        "The dataset is relatively small (39 samples), and the perfect performance could be influenced by the dataset's characteristics.\n",
        "KNN with optimal k=2 showed slightly lower AUC, and the precision-recall trade-off indicates potential sensitivity to the choice of hyperparameters.\n",
        "Model Selection:\n",
        "\n",
        "All classifiers demonstrated strong performance. The choice of the best classifier depends on factors such as interpretability, computational efficiency, and the specific requirements of the application.\n",
        "Further Considerations:\n",
        "**Conclusion:**\n",
        " we getting mainly full 100% for naive bayes and random forest algorithms. These algorithms will effect by overfitting or imbalance of our dataset and for KNN and SVM models precision value is zero, it means that the model has not made any correct positive predictions (true positives) among the instances it predicted as positive. This could be an indication that the model is not performing well in terms of precision, and it is making a high number of false positive predictions..\n",
        "\n"
      ],
      "metadata": {
        "id": "53v8V-8BDFMg"
      },
      "id": "53v8V-8BDFMg"
    },
    {
      "cell_type": "markdown",
      "id": "d3740e1a",
      "metadata": {
        "id": "d3740e1a"
      },
      "source": [
        "## 4. Bonus question (5 extra points)\n",
        "**Try to fix the inbalanced nature of the data with a tool from the lecture. Run one of the classification methods (preferable one that \"failed\" before) and see if you get better results.**"
      ]
    },
    {
      "cell_type": "code",
      "source": [
        "from imblearn.over_sampling import SMOTE\n",
        "from sklearn.model_selection import train_test_split\n",
        "from sklearn.neighbors import KNeighborsClassifier\n",
        "from sklearn.metrics import confusion_matrix, classification_report, roc_auc_score\n",
        "\n",
        "# Assuming 'X' is your feature matrix and 'y' is the target variable\n",
        "X_train, X_test, y_train, y_test = train_test_split(X, y, test_size=0.2, random_state=42)\n",
        "\n",
        "# Apply SMOTE to balance the data\n",
        "smote = SMOTE(random_state=42)\n",
        "X_train_resampled, y_train_resampled = smote.fit_resample(X_train, y_train)\n",
        "\n",
        "# Create and train the KNN model on the resampled data\n",
        "knn_model = KNeighborsClassifier()\n",
        "knn_model.fit(X_train_resampled, y_train_resampled)\n",
        "\n",
        "# Make predictions on the test set\n",
        "y_pred = knn_model.predict(X_test)\n",
        "\n",
        "# Evaluate the model\n",
        "conf_matrix = confusion_matrix(y_test, y_pred)\n",
        "classification_rep = classification_report(y_test, y_pred)\n",
        "auc_score = roc_auc_score(y_test, y_pred)\n",
        "\n",
        "print(\"Confusion Matrix (KNN with SMOTE):\")\n",
        "print(conf_matrix)\n",
        "\n",
        "print(\"\\nClassification Report (KNN with SMOTE):\")\n",
        "print(classification_rep)\n",
        "\n",
        "print(\"\\nAUC Score (KNN with SMOTE):\")\n",
        "print(auc_score)"
      ],
      "metadata": {
        "colab": {
          "base_uri": "https://localhost:8080/"
        },
        "id": "rxvq4N7YhG5q",
        "outputId": "00e788e8-7ec1-402f-ffa7-9f84a9d7c660"
      },
      "id": "rxvq4N7YhG5q",
      "execution_count": 176,
      "outputs": [
        {
          "output_type": "stream",
          "name": "stdout",
          "text": [
            "Confusion Matrix (KNN with SMOTE):\n",
            "[[29  7]\n",
            " [ 0  3]]\n",
            "\n",
            "Classification Report (KNN with SMOTE):\n",
            "              precision    recall  f1-score   support\n",
            "\n",
            "           0       1.00      0.81      0.89        36\n",
            "           1       0.30      1.00      0.46         3\n",
            "\n",
            "    accuracy                           0.82        39\n",
            "   macro avg       0.65      0.90      0.68        39\n",
            "weighted avg       0.95      0.82      0.86        39\n",
            "\n",
            "\n",
            "AUC Score (KNN with SMOTE):\n",
            "0.9027777777777778\n"
          ]
        }
      ]
    },
    {
      "cell_type": "markdown",
      "source": [
        "Splits data into training sets(80%  and testing 20%then applies the SMOTE to the training data to adress class imbalance,generating samples for minority classes.Makes prediction on the test set using the KNN model. Calculates and prints the confusion matrix, classification report and AUC Score to evaluate the model performance on test set.\n",
        "**CONFUSION MATRIX:**\n",
        "Helps visualize true positives,true negatives,false positives,and false negatives\n",
        "**Classification report:**\n",
        "Provides precision,recall,F1-score,and support for each class.\n",
        "**AUC SCORE:**\n",
        "Represents the area under the ROC curve,indicating the model's ability to distinguish between classes.\n",
        "\n",
        "The model exhibits high precision for the majority class (class 0) but lower precision for the minority class (class 1).The recall for the minority class is excellent (1.00), meaning the model effectively captures all actual positives for class 1.The overall accuracy is 82%, but it's important to consider the class imbalance and the specific requirements of the problem.The AUC score of 0.90 suggests good discrimination between classes.\n",
        "In summary, the model shows promising results, especially in capturing instances of the minority class after applying SMOTE for balancing. Depending on the specific goals and constraints, further tuning or different model approaches could be explored.\n"
      ],
      "metadata": {
        "id": "WDZjFMlqIm_M"
      },
      "id": "WDZjFMlqIm_M"
    }
  ],
  "metadata": {
    "kernelspec": {
      "display_name": "Python 3 (ipykernel)",
      "language": "python",
      "name": "python3"
    },
    "language_info": {
      "codemirror_mode": {
        "name": "ipython",
        "version": 3
      },
      "file_extension": ".py",
      "mimetype": "text/x-python",
      "name": "python",
      "nbconvert_exporter": "python",
      "pygments_lexer": "ipython3",
      "version": "3.7.3"
    },
    "colab": {
      "provenance": []
    }
  },
  "nbformat": 4,
  "nbformat_minor": 5
}